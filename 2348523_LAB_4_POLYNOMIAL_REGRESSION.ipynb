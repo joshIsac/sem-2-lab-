{
  "cells": [
    {
      "cell_type": "markdown",
      "metadata": {
        "id": "view-in-github",
        "colab_type": "text"
      },
      "source": [
        "<a href=\"https://colab.research.google.com/github/joshIsac/sem-2-lab-/blob/main/2348523_LAB_4_POLYNOMIAL_REGRESSION.ipynb\" target=\"_parent\"><img src=\"https://colab.research.google.com/assets/colab-badge.svg\" alt=\"Open In Colab\"/></a>"
      ]
    },
    {
      "cell_type": "code",
      "execution_count": 445,
      "metadata": {
        "id": "qe65VRyzC2Ek"
      },
      "outputs": [],
      "source": [
        "import pandas as pd\n",
        "import numpy as np\n",
        "import matplotlib.pyplot as plt\n",
        "import seaborn as sn"
      ]
    },
    {
      "cell_type": "code",
      "execution_count": 446,
      "metadata": {
        "colab": {
          "base_uri": "https://localhost:8080/"
        },
        "id": "yZaaj1SQDarz",
        "outputId": "dced8163-0993-43ef-fff6-9737dd040cc5"
      },
      "outputs": [
        {
          "output_type": "execute_result",
          "data": {
            "text/plain": [
              "<bound method NDFrame.head of       index  OS_Time_Stamp  Temperature  Pressure  Humidity  \\\n",
              "0         0     1456761674         17.7    1015.2      76.4   \n",
              "1         1     1456761733         17.7    1015.3      76.4   \n",
              "2         2     1456761792         17.7    1015.3      76.5   \n",
              "3         3     1456761853         17.7    1015.3      76.7   \n",
              "4         4     1456761912         17.6    1015.2      76.8   \n",
              "...     ...            ...          ...       ...       ...   \n",
              "2873    118     1456768752         16.7    1015.1      81.9   \n",
              "2874    119     1456768823         16.7    1015.1      82.0   \n",
              "2875    120     1456768873         16.7    1015.1      81.9   \n",
              "2876    121     1456768932         16.7    1015.1      81.7   \n",
              "2877    122     1456768992         16.6    1015.1      81.4   \n",
              "\n",
              "                      TimeStamp  \n",
              "0     2016-03-01 00:01:14+08:00  \n",
              "1     2016-03-01 00:02:13+08:00  \n",
              "2     2016-03-01 00:03:12+08:00  \n",
              "3     2016-03-01 00:04:13+08:00  \n",
              "4     2016-03-01 00:05:12+08:00  \n",
              "...                         ...  \n",
              "2873  2016-03-01 01:59:12+08:00  \n",
              "2874  2016-03-01 02:00:23+08:00  \n",
              "2875  2016-03-01 02:01:13+08:00  \n",
              "2876  2016-03-01 02:02:12+08:00  \n",
              "2877  2016-03-01 02:03:12+08:00  \n",
              "\n",
              "[2878 rows x 6 columns]>"
            ]
          },
          "metadata": {},
          "execution_count": 446
        }
      ],
      "source": [
        "data=pd.read_csv('/content/drive/MyDrive/Program_4_Dataset.csv')\n",
        "data.head\n"
      ]
    },
    {
      "cell_type": "code",
      "execution_count": 447,
      "metadata": {
        "colab": {
          "base_uri": "https://localhost:8080/",
          "height": 597
        },
        "id": "nlwXG-jzFjRY",
        "outputId": "6b7313d4-2a97-48f4-a006-111346dae943"
      },
      "outputs": [
        {
          "output_type": "execute_result",
          "data": {
            "text/plain": [
              "      index  OS_Time_Stamp  Temperature  Pressure  Humidity  \\\n",
              "0         0     1456761674         17.7    1015.2      76.4   \n",
              "1         1     1456761733         17.7    1015.3      76.4   \n",
              "2         2     1456761792         17.7    1015.3      76.5   \n",
              "3         3     1456761853         17.7    1015.3      76.7   \n",
              "4         4     1456761912         17.6    1015.2      76.8   \n",
              "...     ...            ...          ...       ...       ...   \n",
              "2873    118     1456768752         16.7    1015.1      81.9   \n",
              "2874    119     1456768823         16.7    1015.1      82.0   \n",
              "2875    120     1456768873         16.7    1015.1      81.9   \n",
              "2876    121     1456768932         16.7    1015.1      81.7   \n",
              "2877    122     1456768992         16.6    1015.1      81.4   \n",
              "\n",
              "                      TimeStamp  \n",
              "0     2016-03-01 00:01:14+08:00  \n",
              "1     2016-03-01 00:02:13+08:00  \n",
              "2     2016-03-01 00:03:12+08:00  \n",
              "3     2016-03-01 00:04:13+08:00  \n",
              "4     2016-03-01 00:05:12+08:00  \n",
              "...                         ...  \n",
              "2873  2016-03-01 01:59:12+08:00  \n",
              "2874  2016-03-01 02:00:23+08:00  \n",
              "2875  2016-03-01 02:01:13+08:00  \n",
              "2876  2016-03-01 02:02:12+08:00  \n",
              "2877  2016-03-01 02:03:12+08:00  \n",
              "\n",
              "[2878 rows x 6 columns]"
            ],
            "text/html": [
              "\n",
              "  <div id=\"df-0904d784-ed84-4b8c-bbce-d135e1f393ba\" class=\"colab-df-container\">\n",
              "    <div>\n",
              "<style scoped>\n",
              "    .dataframe tbody tr th:only-of-type {\n",
              "        vertical-align: middle;\n",
              "    }\n",
              "\n",
              "    .dataframe tbody tr th {\n",
              "        vertical-align: top;\n",
              "    }\n",
              "\n",
              "    .dataframe thead th {\n",
              "        text-align: right;\n",
              "    }\n",
              "</style>\n",
              "<table border=\"1\" class=\"dataframe\">\n",
              "  <thead>\n",
              "    <tr style=\"text-align: right;\">\n",
              "      <th></th>\n",
              "      <th>index</th>\n",
              "      <th>OS_Time_Stamp</th>\n",
              "      <th>Temperature</th>\n",
              "      <th>Pressure</th>\n",
              "      <th>Humidity</th>\n",
              "      <th>TimeStamp</th>\n",
              "    </tr>\n",
              "  </thead>\n",
              "  <tbody>\n",
              "    <tr>\n",
              "      <th>0</th>\n",
              "      <td>0</td>\n",
              "      <td>1456761674</td>\n",
              "      <td>17.7</td>\n",
              "      <td>1015.2</td>\n",
              "      <td>76.4</td>\n",
              "      <td>2016-03-01 00:01:14+08:00</td>\n",
              "    </tr>\n",
              "    <tr>\n",
              "      <th>1</th>\n",
              "      <td>1</td>\n",
              "      <td>1456761733</td>\n",
              "      <td>17.7</td>\n",
              "      <td>1015.3</td>\n",
              "      <td>76.4</td>\n",
              "      <td>2016-03-01 00:02:13+08:00</td>\n",
              "    </tr>\n",
              "    <tr>\n",
              "      <th>2</th>\n",
              "      <td>2</td>\n",
              "      <td>1456761792</td>\n",
              "      <td>17.7</td>\n",
              "      <td>1015.3</td>\n",
              "      <td>76.5</td>\n",
              "      <td>2016-03-01 00:03:12+08:00</td>\n",
              "    </tr>\n",
              "    <tr>\n",
              "      <th>3</th>\n",
              "      <td>3</td>\n",
              "      <td>1456761853</td>\n",
              "      <td>17.7</td>\n",
              "      <td>1015.3</td>\n",
              "      <td>76.7</td>\n",
              "      <td>2016-03-01 00:04:13+08:00</td>\n",
              "    </tr>\n",
              "    <tr>\n",
              "      <th>4</th>\n",
              "      <td>4</td>\n",
              "      <td>1456761912</td>\n",
              "      <td>17.6</td>\n",
              "      <td>1015.2</td>\n",
              "      <td>76.8</td>\n",
              "      <td>2016-03-01 00:05:12+08:00</td>\n",
              "    </tr>\n",
              "    <tr>\n",
              "      <th>...</th>\n",
              "      <td>...</td>\n",
              "      <td>...</td>\n",
              "      <td>...</td>\n",
              "      <td>...</td>\n",
              "      <td>...</td>\n",
              "      <td>...</td>\n",
              "    </tr>\n",
              "    <tr>\n",
              "      <th>2873</th>\n",
              "      <td>118</td>\n",
              "      <td>1456768752</td>\n",
              "      <td>16.7</td>\n",
              "      <td>1015.1</td>\n",
              "      <td>81.9</td>\n",
              "      <td>2016-03-01 01:59:12+08:00</td>\n",
              "    </tr>\n",
              "    <tr>\n",
              "      <th>2874</th>\n",
              "      <td>119</td>\n",
              "      <td>1456768823</td>\n",
              "      <td>16.7</td>\n",
              "      <td>1015.1</td>\n",
              "      <td>82.0</td>\n",
              "      <td>2016-03-01 02:00:23+08:00</td>\n",
              "    </tr>\n",
              "    <tr>\n",
              "      <th>2875</th>\n",
              "      <td>120</td>\n",
              "      <td>1456768873</td>\n",
              "      <td>16.7</td>\n",
              "      <td>1015.1</td>\n",
              "      <td>81.9</td>\n",
              "      <td>2016-03-01 02:01:13+08:00</td>\n",
              "    </tr>\n",
              "    <tr>\n",
              "      <th>2876</th>\n",
              "      <td>121</td>\n",
              "      <td>1456768932</td>\n",
              "      <td>16.7</td>\n",
              "      <td>1015.1</td>\n",
              "      <td>81.7</td>\n",
              "      <td>2016-03-01 02:02:12+08:00</td>\n",
              "    </tr>\n",
              "    <tr>\n",
              "      <th>2877</th>\n",
              "      <td>122</td>\n",
              "      <td>1456768992</td>\n",
              "      <td>16.6</td>\n",
              "      <td>1015.1</td>\n",
              "      <td>81.4</td>\n",
              "      <td>2016-03-01 02:03:12+08:00</td>\n",
              "    </tr>\n",
              "  </tbody>\n",
              "</table>\n",
              "<p>2878 rows × 6 columns</p>\n",
              "</div>\n",
              "    <div class=\"colab-df-buttons\">\n",
              "\n",
              "  <div class=\"colab-df-container\">\n",
              "    <button class=\"colab-df-convert\" onclick=\"convertToInteractive('df-0904d784-ed84-4b8c-bbce-d135e1f393ba')\"\n",
              "            title=\"Convert this dataframe to an interactive table.\"\n",
              "            style=\"display:none;\">\n",
              "\n",
              "  <svg xmlns=\"http://www.w3.org/2000/svg\" height=\"24px\" viewBox=\"0 -960 960 960\">\n",
              "    <path d=\"M120-120v-720h720v720H120Zm60-500h600v-160H180v160Zm220 220h160v-160H400v160Zm0 220h160v-160H400v160ZM180-400h160v-160H180v160Zm440 0h160v-160H620v160ZM180-180h160v-160H180v160Zm440 0h160v-160H620v160Z\"/>\n",
              "  </svg>\n",
              "    </button>\n",
              "\n",
              "  <style>\n",
              "    .colab-df-container {\n",
              "      display:flex;\n",
              "      gap: 12px;\n",
              "    }\n",
              "\n",
              "    .colab-df-convert {\n",
              "      background-color: #E8F0FE;\n",
              "      border: none;\n",
              "      border-radius: 50%;\n",
              "      cursor: pointer;\n",
              "      display: none;\n",
              "      fill: #1967D2;\n",
              "      height: 32px;\n",
              "      padding: 0 0 0 0;\n",
              "      width: 32px;\n",
              "    }\n",
              "\n",
              "    .colab-df-convert:hover {\n",
              "      background-color: #E2EBFA;\n",
              "      box-shadow: 0px 1px 2px rgba(60, 64, 67, 0.3), 0px 1px 3px 1px rgba(60, 64, 67, 0.15);\n",
              "      fill: #174EA6;\n",
              "    }\n",
              "\n",
              "    .colab-df-buttons div {\n",
              "      margin-bottom: 4px;\n",
              "    }\n",
              "\n",
              "    [theme=dark] .colab-df-convert {\n",
              "      background-color: #3B4455;\n",
              "      fill: #D2E3FC;\n",
              "    }\n",
              "\n",
              "    [theme=dark] .colab-df-convert:hover {\n",
              "      background-color: #434B5C;\n",
              "      box-shadow: 0px 1px 3px 1px rgba(0, 0, 0, 0.15);\n",
              "      filter: drop-shadow(0px 1px 2px rgba(0, 0, 0, 0.3));\n",
              "      fill: #FFFFFF;\n",
              "    }\n",
              "  </style>\n",
              "\n",
              "    <script>\n",
              "      const buttonEl =\n",
              "        document.querySelector('#df-0904d784-ed84-4b8c-bbce-d135e1f393ba button.colab-df-convert');\n",
              "      buttonEl.style.display =\n",
              "        google.colab.kernel.accessAllowed ? 'block' : 'none';\n",
              "\n",
              "      async function convertToInteractive(key) {\n",
              "        const element = document.querySelector('#df-0904d784-ed84-4b8c-bbce-d135e1f393ba');\n",
              "        const dataTable =\n",
              "          await google.colab.kernel.invokeFunction('convertToInteractive',\n",
              "                                                    [key], {});\n",
              "        if (!dataTable) return;\n",
              "\n",
              "        const docLinkHtml = 'Like what you see? Visit the ' +\n",
              "          '<a target=\"_blank\" href=https://colab.research.google.com/notebooks/data_table.ipynb>data table notebook</a>'\n",
              "          + ' to learn more about interactive tables.';\n",
              "        element.innerHTML = '';\n",
              "        dataTable['output_type'] = 'display_data';\n",
              "        await google.colab.output.renderOutput(dataTable, element);\n",
              "        const docLink = document.createElement('div');\n",
              "        docLink.innerHTML = docLinkHtml;\n",
              "        element.appendChild(docLink);\n",
              "      }\n",
              "    </script>\n",
              "  </div>\n",
              "\n",
              "\n",
              "<div id=\"df-2937caf1-983c-4b7c-b478-86c1692ecbea\">\n",
              "  <button class=\"colab-df-quickchart\" onclick=\"quickchart('df-2937caf1-983c-4b7c-b478-86c1692ecbea')\"\n",
              "            title=\"Suggest charts\"\n",
              "            style=\"display:none;\">\n",
              "\n",
              "<svg xmlns=\"http://www.w3.org/2000/svg\" height=\"24px\"viewBox=\"0 0 24 24\"\n",
              "     width=\"24px\">\n",
              "    <g>\n",
              "        <path d=\"M19 3H5c-1.1 0-2 .9-2 2v14c0 1.1.9 2 2 2h14c1.1 0 2-.9 2-2V5c0-1.1-.9-2-2-2zM9 17H7v-7h2v7zm4 0h-2V7h2v10zm4 0h-2v-4h2v4z\"/>\n",
              "    </g>\n",
              "</svg>\n",
              "  </button>\n",
              "\n",
              "<style>\n",
              "  .colab-df-quickchart {\n",
              "      --bg-color: #E8F0FE;\n",
              "      --fill-color: #1967D2;\n",
              "      --hover-bg-color: #E2EBFA;\n",
              "      --hover-fill-color: #174EA6;\n",
              "      --disabled-fill-color: #AAA;\n",
              "      --disabled-bg-color: #DDD;\n",
              "  }\n",
              "\n",
              "  [theme=dark] .colab-df-quickchart {\n",
              "      --bg-color: #3B4455;\n",
              "      --fill-color: #D2E3FC;\n",
              "      --hover-bg-color: #434B5C;\n",
              "      --hover-fill-color: #FFFFFF;\n",
              "      --disabled-bg-color: #3B4455;\n",
              "      --disabled-fill-color: #666;\n",
              "  }\n",
              "\n",
              "  .colab-df-quickchart {\n",
              "    background-color: var(--bg-color);\n",
              "    border: none;\n",
              "    border-radius: 50%;\n",
              "    cursor: pointer;\n",
              "    display: none;\n",
              "    fill: var(--fill-color);\n",
              "    height: 32px;\n",
              "    padding: 0;\n",
              "    width: 32px;\n",
              "  }\n",
              "\n",
              "  .colab-df-quickchart:hover {\n",
              "    background-color: var(--hover-bg-color);\n",
              "    box-shadow: 0 1px 2px rgba(60, 64, 67, 0.3), 0 1px 3px 1px rgba(60, 64, 67, 0.15);\n",
              "    fill: var(--button-hover-fill-color);\n",
              "  }\n",
              "\n",
              "  .colab-df-quickchart-complete:disabled,\n",
              "  .colab-df-quickchart-complete:disabled:hover {\n",
              "    background-color: var(--disabled-bg-color);\n",
              "    fill: var(--disabled-fill-color);\n",
              "    box-shadow: none;\n",
              "  }\n",
              "\n",
              "  .colab-df-spinner {\n",
              "    border: 2px solid var(--fill-color);\n",
              "    border-color: transparent;\n",
              "    border-bottom-color: var(--fill-color);\n",
              "    animation:\n",
              "      spin 1s steps(1) infinite;\n",
              "  }\n",
              "\n",
              "  @keyframes spin {\n",
              "    0% {\n",
              "      border-color: transparent;\n",
              "      border-bottom-color: var(--fill-color);\n",
              "      border-left-color: var(--fill-color);\n",
              "    }\n",
              "    20% {\n",
              "      border-color: transparent;\n",
              "      border-left-color: var(--fill-color);\n",
              "      border-top-color: var(--fill-color);\n",
              "    }\n",
              "    30% {\n",
              "      border-color: transparent;\n",
              "      border-left-color: var(--fill-color);\n",
              "      border-top-color: var(--fill-color);\n",
              "      border-right-color: var(--fill-color);\n",
              "    }\n",
              "    40% {\n",
              "      border-color: transparent;\n",
              "      border-right-color: var(--fill-color);\n",
              "      border-top-color: var(--fill-color);\n",
              "    }\n",
              "    60% {\n",
              "      border-color: transparent;\n",
              "      border-right-color: var(--fill-color);\n",
              "    }\n",
              "    80% {\n",
              "      border-color: transparent;\n",
              "      border-right-color: var(--fill-color);\n",
              "      border-bottom-color: var(--fill-color);\n",
              "    }\n",
              "    90% {\n",
              "      border-color: transparent;\n",
              "      border-bottom-color: var(--fill-color);\n",
              "    }\n",
              "  }\n",
              "</style>\n",
              "\n",
              "  <script>\n",
              "    async function quickchart(key) {\n",
              "      const quickchartButtonEl =\n",
              "        document.querySelector('#' + key + ' button');\n",
              "      quickchartButtonEl.disabled = true;  // To prevent multiple clicks.\n",
              "      quickchartButtonEl.classList.add('colab-df-spinner');\n",
              "      try {\n",
              "        const charts = await google.colab.kernel.invokeFunction(\n",
              "            'suggestCharts', [key], {});\n",
              "      } catch (error) {\n",
              "        console.error('Error during call to suggestCharts:', error);\n",
              "      }\n",
              "      quickchartButtonEl.classList.remove('colab-df-spinner');\n",
              "      quickchartButtonEl.classList.add('colab-df-quickchart-complete');\n",
              "    }\n",
              "    (() => {\n",
              "      let quickchartButtonEl =\n",
              "        document.querySelector('#df-2937caf1-983c-4b7c-b478-86c1692ecbea button');\n",
              "      quickchartButtonEl.style.display =\n",
              "        google.colab.kernel.accessAllowed ? 'block' : 'none';\n",
              "    })();\n",
              "  </script>\n",
              "</div>\n",
              "    </div>\n",
              "  </div>\n"
            ]
          },
          "metadata": {},
          "execution_count": 447
        }
      ],
      "source": [
        "df=pd.DataFrame(data)\n",
        "df\n"
      ]
    },
    {
      "cell_type": "code",
      "execution_count": 448,
      "metadata": {
        "colab": {
          "base_uri": "https://localhost:8080/"
        },
        "id": "B9SAxiG7Hb52",
        "outputId": "8253df1a-da03-450d-e054-14f36b48718c"
      },
      "outputs": [
        {
          "output_type": "execute_result",
          "data": {
            "text/plain": [
              "index            0\n",
              "OS_Time_Stamp    0\n",
              "Temperature      0\n",
              "Pressure         0\n",
              "Humidity         0\n",
              "TimeStamp        0\n",
              "dtype: int64"
            ]
          },
          "metadata": {},
          "execution_count": 448
        }
      ],
      "source": [
        "df.isnull().sum()"
      ]
    },
    {
      "cell_type": "code",
      "execution_count": 449,
      "metadata": {
        "colab": {
          "base_uri": "https://localhost:8080/",
          "height": 300
        },
        "id": "F-y3PiDDHjH0",
        "outputId": "79491431-1a70-486f-ffff-f366ae60917a"
      },
      "outputs": [
        {
          "output_type": "execute_result",
          "data": {
            "text/plain": [
              "             index  OS_Time_Stamp  Temperature     Pressure     Humidity\n",
              "count  2878.000000   2.878000e+03  2878.000000  2878.000000  2878.000000\n",
              "mean    719.000000   1.460520e+09    24.153648  1005.862543    80.653475\n",
              "std     415.475606   3.715930e+06     4.925571     8.401371    22.736845\n",
              "min       0.000000   1.456762e+09    14.800000   994.000000    40.000000\n",
              "25%     359.250000   1.456805e+09    20.100000   997.300000    56.650000\n",
              "50%     719.000000   1.460520e+09    26.000000  1010.500000    92.300000\n",
              "75%    1078.750000   1.464235e+09    28.275000  1013.700000   100.000000\n",
              "max    1438.000000   1.464278e+09    31.400000  1016.700000   100.000000"
            ],
            "text/html": [
              "\n",
              "  <div id=\"df-7e7ec40c-4a76-4b67-bf2b-dd1cc0570967\" class=\"colab-df-container\">\n",
              "    <div>\n",
              "<style scoped>\n",
              "    .dataframe tbody tr th:only-of-type {\n",
              "        vertical-align: middle;\n",
              "    }\n",
              "\n",
              "    .dataframe tbody tr th {\n",
              "        vertical-align: top;\n",
              "    }\n",
              "\n",
              "    .dataframe thead th {\n",
              "        text-align: right;\n",
              "    }\n",
              "</style>\n",
              "<table border=\"1\" class=\"dataframe\">\n",
              "  <thead>\n",
              "    <tr style=\"text-align: right;\">\n",
              "      <th></th>\n",
              "      <th>index</th>\n",
              "      <th>OS_Time_Stamp</th>\n",
              "      <th>Temperature</th>\n",
              "      <th>Pressure</th>\n",
              "      <th>Humidity</th>\n",
              "    </tr>\n",
              "  </thead>\n",
              "  <tbody>\n",
              "    <tr>\n",
              "      <th>count</th>\n",
              "      <td>2878.000000</td>\n",
              "      <td>2.878000e+03</td>\n",
              "      <td>2878.000000</td>\n",
              "      <td>2878.000000</td>\n",
              "      <td>2878.000000</td>\n",
              "    </tr>\n",
              "    <tr>\n",
              "      <th>mean</th>\n",
              "      <td>719.000000</td>\n",
              "      <td>1.460520e+09</td>\n",
              "      <td>24.153648</td>\n",
              "      <td>1005.862543</td>\n",
              "      <td>80.653475</td>\n",
              "    </tr>\n",
              "    <tr>\n",
              "      <th>std</th>\n",
              "      <td>415.475606</td>\n",
              "      <td>3.715930e+06</td>\n",
              "      <td>4.925571</td>\n",
              "      <td>8.401371</td>\n",
              "      <td>22.736845</td>\n",
              "    </tr>\n",
              "    <tr>\n",
              "      <th>min</th>\n",
              "      <td>0.000000</td>\n",
              "      <td>1.456762e+09</td>\n",
              "      <td>14.800000</td>\n",
              "      <td>994.000000</td>\n",
              "      <td>40.000000</td>\n",
              "    </tr>\n",
              "    <tr>\n",
              "      <th>25%</th>\n",
              "      <td>359.250000</td>\n",
              "      <td>1.456805e+09</td>\n",
              "      <td>20.100000</td>\n",
              "      <td>997.300000</td>\n",
              "      <td>56.650000</td>\n",
              "    </tr>\n",
              "    <tr>\n",
              "      <th>50%</th>\n",
              "      <td>719.000000</td>\n",
              "      <td>1.460520e+09</td>\n",
              "      <td>26.000000</td>\n",
              "      <td>1010.500000</td>\n",
              "      <td>92.300000</td>\n",
              "    </tr>\n",
              "    <tr>\n",
              "      <th>75%</th>\n",
              "      <td>1078.750000</td>\n",
              "      <td>1.464235e+09</td>\n",
              "      <td>28.275000</td>\n",
              "      <td>1013.700000</td>\n",
              "      <td>100.000000</td>\n",
              "    </tr>\n",
              "    <tr>\n",
              "      <th>max</th>\n",
              "      <td>1438.000000</td>\n",
              "      <td>1.464278e+09</td>\n",
              "      <td>31.400000</td>\n",
              "      <td>1016.700000</td>\n",
              "      <td>100.000000</td>\n",
              "    </tr>\n",
              "  </tbody>\n",
              "</table>\n",
              "</div>\n",
              "    <div class=\"colab-df-buttons\">\n",
              "\n",
              "  <div class=\"colab-df-container\">\n",
              "    <button class=\"colab-df-convert\" onclick=\"convertToInteractive('df-7e7ec40c-4a76-4b67-bf2b-dd1cc0570967')\"\n",
              "            title=\"Convert this dataframe to an interactive table.\"\n",
              "            style=\"display:none;\">\n",
              "\n",
              "  <svg xmlns=\"http://www.w3.org/2000/svg\" height=\"24px\" viewBox=\"0 -960 960 960\">\n",
              "    <path d=\"M120-120v-720h720v720H120Zm60-500h600v-160H180v160Zm220 220h160v-160H400v160Zm0 220h160v-160H400v160ZM180-400h160v-160H180v160Zm440 0h160v-160H620v160ZM180-180h160v-160H180v160Zm440 0h160v-160H620v160Z\"/>\n",
              "  </svg>\n",
              "    </button>\n",
              "\n",
              "  <style>\n",
              "    .colab-df-container {\n",
              "      display:flex;\n",
              "      gap: 12px;\n",
              "    }\n",
              "\n",
              "    .colab-df-convert {\n",
              "      background-color: #E8F0FE;\n",
              "      border: none;\n",
              "      border-radius: 50%;\n",
              "      cursor: pointer;\n",
              "      display: none;\n",
              "      fill: #1967D2;\n",
              "      height: 32px;\n",
              "      padding: 0 0 0 0;\n",
              "      width: 32px;\n",
              "    }\n",
              "\n",
              "    .colab-df-convert:hover {\n",
              "      background-color: #E2EBFA;\n",
              "      box-shadow: 0px 1px 2px rgba(60, 64, 67, 0.3), 0px 1px 3px 1px rgba(60, 64, 67, 0.15);\n",
              "      fill: #174EA6;\n",
              "    }\n",
              "\n",
              "    .colab-df-buttons div {\n",
              "      margin-bottom: 4px;\n",
              "    }\n",
              "\n",
              "    [theme=dark] .colab-df-convert {\n",
              "      background-color: #3B4455;\n",
              "      fill: #D2E3FC;\n",
              "    }\n",
              "\n",
              "    [theme=dark] .colab-df-convert:hover {\n",
              "      background-color: #434B5C;\n",
              "      box-shadow: 0px 1px 3px 1px rgba(0, 0, 0, 0.15);\n",
              "      filter: drop-shadow(0px 1px 2px rgba(0, 0, 0, 0.3));\n",
              "      fill: #FFFFFF;\n",
              "    }\n",
              "  </style>\n",
              "\n",
              "    <script>\n",
              "      const buttonEl =\n",
              "        document.querySelector('#df-7e7ec40c-4a76-4b67-bf2b-dd1cc0570967 button.colab-df-convert');\n",
              "      buttonEl.style.display =\n",
              "        google.colab.kernel.accessAllowed ? 'block' : 'none';\n",
              "\n",
              "      async function convertToInteractive(key) {\n",
              "        const element = document.querySelector('#df-7e7ec40c-4a76-4b67-bf2b-dd1cc0570967');\n",
              "        const dataTable =\n",
              "          await google.colab.kernel.invokeFunction('convertToInteractive',\n",
              "                                                    [key], {});\n",
              "        if (!dataTable) return;\n",
              "\n",
              "        const docLinkHtml = 'Like what you see? Visit the ' +\n",
              "          '<a target=\"_blank\" href=https://colab.research.google.com/notebooks/data_table.ipynb>data table notebook</a>'\n",
              "          + ' to learn more about interactive tables.';\n",
              "        element.innerHTML = '';\n",
              "        dataTable['output_type'] = 'display_data';\n",
              "        await google.colab.output.renderOutput(dataTable, element);\n",
              "        const docLink = document.createElement('div');\n",
              "        docLink.innerHTML = docLinkHtml;\n",
              "        element.appendChild(docLink);\n",
              "      }\n",
              "    </script>\n",
              "  </div>\n",
              "\n",
              "\n",
              "<div id=\"df-67373d67-6f0f-416d-88a9-401dd3e86ef5\">\n",
              "  <button class=\"colab-df-quickchart\" onclick=\"quickchart('df-67373d67-6f0f-416d-88a9-401dd3e86ef5')\"\n",
              "            title=\"Suggest charts\"\n",
              "            style=\"display:none;\">\n",
              "\n",
              "<svg xmlns=\"http://www.w3.org/2000/svg\" height=\"24px\"viewBox=\"0 0 24 24\"\n",
              "     width=\"24px\">\n",
              "    <g>\n",
              "        <path d=\"M19 3H5c-1.1 0-2 .9-2 2v14c0 1.1.9 2 2 2h14c1.1 0 2-.9 2-2V5c0-1.1-.9-2-2-2zM9 17H7v-7h2v7zm4 0h-2V7h2v10zm4 0h-2v-4h2v4z\"/>\n",
              "    </g>\n",
              "</svg>\n",
              "  </button>\n",
              "\n",
              "<style>\n",
              "  .colab-df-quickchart {\n",
              "      --bg-color: #E8F0FE;\n",
              "      --fill-color: #1967D2;\n",
              "      --hover-bg-color: #E2EBFA;\n",
              "      --hover-fill-color: #174EA6;\n",
              "      --disabled-fill-color: #AAA;\n",
              "      --disabled-bg-color: #DDD;\n",
              "  }\n",
              "\n",
              "  [theme=dark] .colab-df-quickchart {\n",
              "      --bg-color: #3B4455;\n",
              "      --fill-color: #D2E3FC;\n",
              "      --hover-bg-color: #434B5C;\n",
              "      --hover-fill-color: #FFFFFF;\n",
              "      --disabled-bg-color: #3B4455;\n",
              "      --disabled-fill-color: #666;\n",
              "  }\n",
              "\n",
              "  .colab-df-quickchart {\n",
              "    background-color: var(--bg-color);\n",
              "    border: none;\n",
              "    border-radius: 50%;\n",
              "    cursor: pointer;\n",
              "    display: none;\n",
              "    fill: var(--fill-color);\n",
              "    height: 32px;\n",
              "    padding: 0;\n",
              "    width: 32px;\n",
              "  }\n",
              "\n",
              "  .colab-df-quickchart:hover {\n",
              "    background-color: var(--hover-bg-color);\n",
              "    box-shadow: 0 1px 2px rgba(60, 64, 67, 0.3), 0 1px 3px 1px rgba(60, 64, 67, 0.15);\n",
              "    fill: var(--button-hover-fill-color);\n",
              "  }\n",
              "\n",
              "  .colab-df-quickchart-complete:disabled,\n",
              "  .colab-df-quickchart-complete:disabled:hover {\n",
              "    background-color: var(--disabled-bg-color);\n",
              "    fill: var(--disabled-fill-color);\n",
              "    box-shadow: none;\n",
              "  }\n",
              "\n",
              "  .colab-df-spinner {\n",
              "    border: 2px solid var(--fill-color);\n",
              "    border-color: transparent;\n",
              "    border-bottom-color: var(--fill-color);\n",
              "    animation:\n",
              "      spin 1s steps(1) infinite;\n",
              "  }\n",
              "\n",
              "  @keyframes spin {\n",
              "    0% {\n",
              "      border-color: transparent;\n",
              "      border-bottom-color: var(--fill-color);\n",
              "      border-left-color: var(--fill-color);\n",
              "    }\n",
              "    20% {\n",
              "      border-color: transparent;\n",
              "      border-left-color: var(--fill-color);\n",
              "      border-top-color: var(--fill-color);\n",
              "    }\n",
              "    30% {\n",
              "      border-color: transparent;\n",
              "      border-left-color: var(--fill-color);\n",
              "      border-top-color: var(--fill-color);\n",
              "      border-right-color: var(--fill-color);\n",
              "    }\n",
              "    40% {\n",
              "      border-color: transparent;\n",
              "      border-right-color: var(--fill-color);\n",
              "      border-top-color: var(--fill-color);\n",
              "    }\n",
              "    60% {\n",
              "      border-color: transparent;\n",
              "      border-right-color: var(--fill-color);\n",
              "    }\n",
              "    80% {\n",
              "      border-color: transparent;\n",
              "      border-right-color: var(--fill-color);\n",
              "      border-bottom-color: var(--fill-color);\n",
              "    }\n",
              "    90% {\n",
              "      border-color: transparent;\n",
              "      border-bottom-color: var(--fill-color);\n",
              "    }\n",
              "  }\n",
              "</style>\n",
              "\n",
              "  <script>\n",
              "    async function quickchart(key) {\n",
              "      const quickchartButtonEl =\n",
              "        document.querySelector('#' + key + ' button');\n",
              "      quickchartButtonEl.disabled = true;  // To prevent multiple clicks.\n",
              "      quickchartButtonEl.classList.add('colab-df-spinner');\n",
              "      try {\n",
              "        const charts = await google.colab.kernel.invokeFunction(\n",
              "            'suggestCharts', [key], {});\n",
              "      } catch (error) {\n",
              "        console.error('Error during call to suggestCharts:', error);\n",
              "      }\n",
              "      quickchartButtonEl.classList.remove('colab-df-spinner');\n",
              "      quickchartButtonEl.classList.add('colab-df-quickchart-complete');\n",
              "    }\n",
              "    (() => {\n",
              "      let quickchartButtonEl =\n",
              "        document.querySelector('#df-67373d67-6f0f-416d-88a9-401dd3e86ef5 button');\n",
              "      quickchartButtonEl.style.display =\n",
              "        google.colab.kernel.accessAllowed ? 'block' : 'none';\n",
              "    })();\n",
              "  </script>\n",
              "</div>\n",
              "    </div>\n",
              "  </div>\n"
            ]
          },
          "metadata": {},
          "execution_count": 449
        }
      ],
      "source": [
        "df.describe()"
      ]
    },
    {
      "cell_type": "code",
      "execution_count": 450,
      "metadata": {
        "colab": {
          "base_uri": "https://localhost:8080/"
        },
        "id": "4ckFBs-4Hlz3",
        "outputId": "4156ecdc-4f99-4b9f-ed82-b2acc64c9056"
      },
      "outputs": [
        {
          "output_type": "execute_result",
          "data": {
            "text/plain": [
              "(2878, 6)"
            ]
          },
          "metadata": {},
          "execution_count": 450
        }
      ],
      "source": [
        "df.shape\n"
      ]
    },
    {
      "cell_type": "code",
      "execution_count": 451,
      "metadata": {
        "colab": {
          "base_uri": "https://localhost:8080/"
        },
        "id": "mxAdFWA8Hsrw",
        "outputId": "cb9c5e89-b9cb-44d4-d71a-3dcd26a5f101"
      },
      "outputs": [
        {
          "output_type": "stream",
          "name": "stdout",
          "text": [
            "<class 'pandas.core.frame.DataFrame'>\n",
            "RangeIndex: 2878 entries, 0 to 2877\n",
            "Data columns (total 6 columns):\n",
            " #   Column         Non-Null Count  Dtype  \n",
            "---  ------         --------------  -----  \n",
            " 0   index          2878 non-null   int64  \n",
            " 1   OS_Time_Stamp  2878 non-null   int64  \n",
            " 2   Temperature    2878 non-null   float64\n",
            " 3   Pressure       2878 non-null   float64\n",
            " 4   Humidity       2878 non-null   float64\n",
            " 5   TimeStamp      2878 non-null   object \n",
            "dtypes: float64(3), int64(2), object(1)\n",
            "memory usage: 135.0+ KB\n"
          ]
        }
      ],
      "source": [
        "df.info()"
      ]
    },
    {
      "cell_type": "code",
      "execution_count": 452,
      "metadata": {
        "id": "7QWEimAPH3H1"
      },
      "outputs": [],
      "source": [
        "X=df[['Temperature']].values.reshape(-1,1)\n",
        "y=df['Pressure'].values"
      ]
    },
    {
      "cell_type": "code",
      "source": [
        "df1=pd.DataFrame({'Temperature':df['Temperature'],'Pressure':df['Pressure']})\n",
        "df1"
      ],
      "metadata": {
        "colab": {
          "base_uri": "https://localhost:8080/",
          "height": 423
        },
        "id": "kXCd3FZJ9sIj",
        "outputId": "f4336aa3-295c-45b5-f181-ddc50a8f9c30"
      },
      "execution_count": 453,
      "outputs": [
        {
          "output_type": "execute_result",
          "data": {
            "text/plain": [
              "      Temperature  Pressure\n",
              "0            17.7    1015.2\n",
              "1            17.7    1015.3\n",
              "2            17.7    1015.3\n",
              "3            17.7    1015.3\n",
              "4            17.6    1015.2\n",
              "...           ...       ...\n",
              "2873         16.7    1015.1\n",
              "2874         16.7    1015.1\n",
              "2875         16.7    1015.1\n",
              "2876         16.7    1015.1\n",
              "2877         16.6    1015.1\n",
              "\n",
              "[2878 rows x 2 columns]"
            ],
            "text/html": [
              "\n",
              "  <div id=\"df-14cd6933-1381-4604-8e45-11c3c4bb82aa\" class=\"colab-df-container\">\n",
              "    <div>\n",
              "<style scoped>\n",
              "    .dataframe tbody tr th:only-of-type {\n",
              "        vertical-align: middle;\n",
              "    }\n",
              "\n",
              "    .dataframe tbody tr th {\n",
              "        vertical-align: top;\n",
              "    }\n",
              "\n",
              "    .dataframe thead th {\n",
              "        text-align: right;\n",
              "    }\n",
              "</style>\n",
              "<table border=\"1\" class=\"dataframe\">\n",
              "  <thead>\n",
              "    <tr style=\"text-align: right;\">\n",
              "      <th></th>\n",
              "      <th>Temperature</th>\n",
              "      <th>Pressure</th>\n",
              "    </tr>\n",
              "  </thead>\n",
              "  <tbody>\n",
              "    <tr>\n",
              "      <th>0</th>\n",
              "      <td>17.7</td>\n",
              "      <td>1015.2</td>\n",
              "    </tr>\n",
              "    <tr>\n",
              "      <th>1</th>\n",
              "      <td>17.7</td>\n",
              "      <td>1015.3</td>\n",
              "    </tr>\n",
              "    <tr>\n",
              "      <th>2</th>\n",
              "      <td>17.7</td>\n",
              "      <td>1015.3</td>\n",
              "    </tr>\n",
              "    <tr>\n",
              "      <th>3</th>\n",
              "      <td>17.7</td>\n",
              "      <td>1015.3</td>\n",
              "    </tr>\n",
              "    <tr>\n",
              "      <th>4</th>\n",
              "      <td>17.6</td>\n",
              "      <td>1015.2</td>\n",
              "    </tr>\n",
              "    <tr>\n",
              "      <th>...</th>\n",
              "      <td>...</td>\n",
              "      <td>...</td>\n",
              "    </tr>\n",
              "    <tr>\n",
              "      <th>2873</th>\n",
              "      <td>16.7</td>\n",
              "      <td>1015.1</td>\n",
              "    </tr>\n",
              "    <tr>\n",
              "      <th>2874</th>\n",
              "      <td>16.7</td>\n",
              "      <td>1015.1</td>\n",
              "    </tr>\n",
              "    <tr>\n",
              "      <th>2875</th>\n",
              "      <td>16.7</td>\n",
              "      <td>1015.1</td>\n",
              "    </tr>\n",
              "    <tr>\n",
              "      <th>2876</th>\n",
              "      <td>16.7</td>\n",
              "      <td>1015.1</td>\n",
              "    </tr>\n",
              "    <tr>\n",
              "      <th>2877</th>\n",
              "      <td>16.6</td>\n",
              "      <td>1015.1</td>\n",
              "    </tr>\n",
              "  </tbody>\n",
              "</table>\n",
              "<p>2878 rows × 2 columns</p>\n",
              "</div>\n",
              "    <div class=\"colab-df-buttons\">\n",
              "\n",
              "  <div class=\"colab-df-container\">\n",
              "    <button class=\"colab-df-convert\" onclick=\"convertToInteractive('df-14cd6933-1381-4604-8e45-11c3c4bb82aa')\"\n",
              "            title=\"Convert this dataframe to an interactive table.\"\n",
              "            style=\"display:none;\">\n",
              "\n",
              "  <svg xmlns=\"http://www.w3.org/2000/svg\" height=\"24px\" viewBox=\"0 -960 960 960\">\n",
              "    <path d=\"M120-120v-720h720v720H120Zm60-500h600v-160H180v160Zm220 220h160v-160H400v160Zm0 220h160v-160H400v160ZM180-400h160v-160H180v160Zm440 0h160v-160H620v160ZM180-180h160v-160H180v160Zm440 0h160v-160H620v160Z\"/>\n",
              "  </svg>\n",
              "    </button>\n",
              "\n",
              "  <style>\n",
              "    .colab-df-container {\n",
              "      display:flex;\n",
              "      gap: 12px;\n",
              "    }\n",
              "\n",
              "    .colab-df-convert {\n",
              "      background-color: #E8F0FE;\n",
              "      border: none;\n",
              "      border-radius: 50%;\n",
              "      cursor: pointer;\n",
              "      display: none;\n",
              "      fill: #1967D2;\n",
              "      height: 32px;\n",
              "      padding: 0 0 0 0;\n",
              "      width: 32px;\n",
              "    }\n",
              "\n",
              "    .colab-df-convert:hover {\n",
              "      background-color: #E2EBFA;\n",
              "      box-shadow: 0px 1px 2px rgba(60, 64, 67, 0.3), 0px 1px 3px 1px rgba(60, 64, 67, 0.15);\n",
              "      fill: #174EA6;\n",
              "    }\n",
              "\n",
              "    .colab-df-buttons div {\n",
              "      margin-bottom: 4px;\n",
              "    }\n",
              "\n",
              "    [theme=dark] .colab-df-convert {\n",
              "      background-color: #3B4455;\n",
              "      fill: #D2E3FC;\n",
              "    }\n",
              "\n",
              "    [theme=dark] .colab-df-convert:hover {\n",
              "      background-color: #434B5C;\n",
              "      box-shadow: 0px 1px 3px 1px rgba(0, 0, 0, 0.15);\n",
              "      filter: drop-shadow(0px 1px 2px rgba(0, 0, 0, 0.3));\n",
              "      fill: #FFFFFF;\n",
              "    }\n",
              "  </style>\n",
              "\n",
              "    <script>\n",
              "      const buttonEl =\n",
              "        document.querySelector('#df-14cd6933-1381-4604-8e45-11c3c4bb82aa button.colab-df-convert');\n",
              "      buttonEl.style.display =\n",
              "        google.colab.kernel.accessAllowed ? 'block' : 'none';\n",
              "\n",
              "      async function convertToInteractive(key) {\n",
              "        const element = document.querySelector('#df-14cd6933-1381-4604-8e45-11c3c4bb82aa');\n",
              "        const dataTable =\n",
              "          await google.colab.kernel.invokeFunction('convertToInteractive',\n",
              "                                                    [key], {});\n",
              "        if (!dataTable) return;\n",
              "\n",
              "        const docLinkHtml = 'Like what you see? Visit the ' +\n",
              "          '<a target=\"_blank\" href=https://colab.research.google.com/notebooks/data_table.ipynb>data table notebook</a>'\n",
              "          + ' to learn more about interactive tables.';\n",
              "        element.innerHTML = '';\n",
              "        dataTable['output_type'] = 'display_data';\n",
              "        await google.colab.output.renderOutput(dataTable, element);\n",
              "        const docLink = document.createElement('div');\n",
              "        docLink.innerHTML = docLinkHtml;\n",
              "        element.appendChild(docLink);\n",
              "      }\n",
              "    </script>\n",
              "  </div>\n",
              "\n",
              "\n",
              "<div id=\"df-c7bb5058-8205-4fa3-affd-649be04fc374\">\n",
              "  <button class=\"colab-df-quickchart\" onclick=\"quickchart('df-c7bb5058-8205-4fa3-affd-649be04fc374')\"\n",
              "            title=\"Suggest charts\"\n",
              "            style=\"display:none;\">\n",
              "\n",
              "<svg xmlns=\"http://www.w3.org/2000/svg\" height=\"24px\"viewBox=\"0 0 24 24\"\n",
              "     width=\"24px\">\n",
              "    <g>\n",
              "        <path d=\"M19 3H5c-1.1 0-2 .9-2 2v14c0 1.1.9 2 2 2h14c1.1 0 2-.9 2-2V5c0-1.1-.9-2-2-2zM9 17H7v-7h2v7zm4 0h-2V7h2v10zm4 0h-2v-4h2v4z\"/>\n",
              "    </g>\n",
              "</svg>\n",
              "  </button>\n",
              "\n",
              "<style>\n",
              "  .colab-df-quickchart {\n",
              "      --bg-color: #E8F0FE;\n",
              "      --fill-color: #1967D2;\n",
              "      --hover-bg-color: #E2EBFA;\n",
              "      --hover-fill-color: #174EA6;\n",
              "      --disabled-fill-color: #AAA;\n",
              "      --disabled-bg-color: #DDD;\n",
              "  }\n",
              "\n",
              "  [theme=dark] .colab-df-quickchart {\n",
              "      --bg-color: #3B4455;\n",
              "      --fill-color: #D2E3FC;\n",
              "      --hover-bg-color: #434B5C;\n",
              "      --hover-fill-color: #FFFFFF;\n",
              "      --disabled-bg-color: #3B4455;\n",
              "      --disabled-fill-color: #666;\n",
              "  }\n",
              "\n",
              "  .colab-df-quickchart {\n",
              "    background-color: var(--bg-color);\n",
              "    border: none;\n",
              "    border-radius: 50%;\n",
              "    cursor: pointer;\n",
              "    display: none;\n",
              "    fill: var(--fill-color);\n",
              "    height: 32px;\n",
              "    padding: 0;\n",
              "    width: 32px;\n",
              "  }\n",
              "\n",
              "  .colab-df-quickchart:hover {\n",
              "    background-color: var(--hover-bg-color);\n",
              "    box-shadow: 0 1px 2px rgba(60, 64, 67, 0.3), 0 1px 3px 1px rgba(60, 64, 67, 0.15);\n",
              "    fill: var(--button-hover-fill-color);\n",
              "  }\n",
              "\n",
              "  .colab-df-quickchart-complete:disabled,\n",
              "  .colab-df-quickchart-complete:disabled:hover {\n",
              "    background-color: var(--disabled-bg-color);\n",
              "    fill: var(--disabled-fill-color);\n",
              "    box-shadow: none;\n",
              "  }\n",
              "\n",
              "  .colab-df-spinner {\n",
              "    border: 2px solid var(--fill-color);\n",
              "    border-color: transparent;\n",
              "    border-bottom-color: var(--fill-color);\n",
              "    animation:\n",
              "      spin 1s steps(1) infinite;\n",
              "  }\n",
              "\n",
              "  @keyframes spin {\n",
              "    0% {\n",
              "      border-color: transparent;\n",
              "      border-bottom-color: var(--fill-color);\n",
              "      border-left-color: var(--fill-color);\n",
              "    }\n",
              "    20% {\n",
              "      border-color: transparent;\n",
              "      border-left-color: var(--fill-color);\n",
              "      border-top-color: var(--fill-color);\n",
              "    }\n",
              "    30% {\n",
              "      border-color: transparent;\n",
              "      border-left-color: var(--fill-color);\n",
              "      border-top-color: var(--fill-color);\n",
              "      border-right-color: var(--fill-color);\n",
              "    }\n",
              "    40% {\n",
              "      border-color: transparent;\n",
              "      border-right-color: var(--fill-color);\n",
              "      border-top-color: var(--fill-color);\n",
              "    }\n",
              "    60% {\n",
              "      border-color: transparent;\n",
              "      border-right-color: var(--fill-color);\n",
              "    }\n",
              "    80% {\n",
              "      border-color: transparent;\n",
              "      border-right-color: var(--fill-color);\n",
              "      border-bottom-color: var(--fill-color);\n",
              "    }\n",
              "    90% {\n",
              "      border-color: transparent;\n",
              "      border-bottom-color: var(--fill-color);\n",
              "    }\n",
              "  }\n",
              "</style>\n",
              "\n",
              "  <script>\n",
              "    async function quickchart(key) {\n",
              "      const quickchartButtonEl =\n",
              "        document.querySelector('#' + key + ' button');\n",
              "      quickchartButtonEl.disabled = true;  // To prevent multiple clicks.\n",
              "      quickchartButtonEl.classList.add('colab-df-spinner');\n",
              "      try {\n",
              "        const charts = await google.colab.kernel.invokeFunction(\n",
              "            'suggestCharts', [key], {});\n",
              "      } catch (error) {\n",
              "        console.error('Error during call to suggestCharts:', error);\n",
              "      }\n",
              "      quickchartButtonEl.classList.remove('colab-df-spinner');\n",
              "      quickchartButtonEl.classList.add('colab-df-quickchart-complete');\n",
              "    }\n",
              "    (() => {\n",
              "      let quickchartButtonEl =\n",
              "        document.querySelector('#df-c7bb5058-8205-4fa3-affd-649be04fc374 button');\n",
              "      quickchartButtonEl.style.display =\n",
              "        google.colab.kernel.accessAllowed ? 'block' : 'none';\n",
              "    })();\n",
              "  </script>\n",
              "</div>\n",
              "    </div>\n",
              "  </div>\n"
            ]
          },
          "metadata": {},
          "execution_count": 453
        }
      ]
    },
    {
      "cell_type": "code",
      "execution_count": 454,
      "metadata": {
        "colab": {
          "base_uri": "https://localhost:8080/",
          "height": 472
        },
        "id": "SIYjwoLuZATt",
        "outputId": "039e3c45-3595-4e16-cbc9-b1181445e334"
      },
      "outputs": [
        {
          "output_type": "display_data",
          "data": {
            "text/plain": [
              "<Figure size 640x480 with 1 Axes>"
            ],
            "image/png": "[encoded data removed]"
          },
          "metadata": {}
        }
      ],
      "source": [
        "plt.scatter(X, y,color='red')\n",
        "plt.title('Scatter Plot of Temperature vs Pressure')\n",
        "plt.xlabel('Temperature')\n",
        "plt.ylabel('Pressure')\n",
        "plt.show()"
      ]
    },
    {
      "cell_type": "code",
      "source": [
        "print(X.shape)\n",
        "print(y.shape)"
      ],
      "metadata": {
        "colab": {
          "base_uri": "https://localhost:8080/"
        },
        "id": "owp6etx35qjC",
        "outputId": "7917434b-faac-42b3-8fb0-21fcc07df586"
      },
      "execution_count": 455,
      "outputs": [
        {
          "output_type": "stream",
          "name": "stdout",
          "text": [
            "(2878, 1)\n",
            "(2878,)\n"
          ]
        }
      ]
    },
    {
      "cell_type": "code",
      "execution_count": 456,
      "metadata": {
        "id": "AQfrRc9pNlOg"
      },
      "outputs": [],
      "source": [
        "from sklearn.model_selection import train_test_split\n",
        "X_train,X_test,y_train, y_test = train_test_split(X, y, test_size=0.44, random_state=44 )"
      ]
    },
    {
      "cell_type": "code",
      "source": [
        "#X_test_reshaped= np.array(X_test).reshape(-1,1)\n"
      ],
      "metadata": {
        "id": "d--g1UXne54Z"
      },
      "execution_count": 457,
      "outputs": []
    },
    {
      "cell_type": "code",
      "source": [
        "from sklearn.preprocessing import PolynomialFeatures\n",
        "pol=PolynomialFeatures(degree=2,include_bias=True)\n",
        "X_train_p=pol.fit_transform(X_train)\n",
        "X_test_p=pol.fit_transform(X_test)"
      ],
      "metadata": {
        "id": "ZxCooVyYfmvl"
      },
      "execution_count": 458,
      "outputs": []
    },
    {
      "cell_type": "code",
      "source": [
        "X_train_p\n"
      ],
      "metadata": {
        "colab": {
          "base_uri": "https://localhost:8080/"
        },
        "id": "FzHDn3Z8bcOD",
        "outputId": "90b75a76-1aca-4ac8-9d8b-7e3fb7b1421c"
      },
      "execution_count": 459,
      "outputs": [
        {
          "output_type": "execute_result",
          "data": {
            "text/plain": [
              "array([[  1.  ,  30.  , 900.  ],\n",
              "       [  1.  ,  21.7 , 470.89],\n",
              "       [  1.  ,  28.6 , 817.96],\n",
              "       ...,\n",
              "       [  1.  ,  22.7 , 515.29],\n",
              "       [  1.  ,  28.6 , 817.96],\n",
              "       [  1.  ,  26.6 , 707.56]])"
            ]
          },
          "metadata": {},
          "execution_count": 459
        }
      ]
    },
    {
      "cell_type": "code",
      "source": [
        "X_test_p"
      ],
      "metadata": {
        "colab": {
          "base_uri": "https://localhost:8080/"
        },
        "id": "8oAEKURZeBTO",
        "outputId": "6a646d4e-df4d-4a94-d0ee-68b3489299ab"
      },
      "execution_count": 460,
      "outputs": [
        {
          "output_type": "execute_result",
          "data": {
            "text/plain": [
              "array([[  1.  ,  28.  , 784.  ],\n",
              "       [  1.  ,  27.4 , 750.76],\n",
              "       [  1.  ,  29.  , 841.  ],\n",
              "       ...,\n",
              "       [  1.  ,  22.9 , 524.41],\n",
              "       [  1.  ,  28.  , 784.  ],\n",
              "       [  1.  ,  28.6 , 817.96]])"
            ]
          },
          "metadata": {},
          "execution_count": 460
        }
      ]
    },
    {
      "cell_type": "markdown",
      "source": [
        "polynomial regression with degree 2 implemented"
      ],
      "metadata": {
        "id": "ixeji-OChGss"
      }
    },
    {
      "cell_type": "code",
      "source": [
        "from sklearn.linear_model import LinearRegression\n",
        "lin_reg1=LinearRegression()\n",
        "lin_reg1.fit(X_train_p,y_train)\n",
        "print(lin_reg1.coef_)\n",
        "print(lin_reg1.intercept_)"
      ],
      "metadata": {
        "colab": {
          "base_uri": "https://localhost:8080/"
        },
        "id": "7Owec853g5X2",
        "outputId": "480a6dc0-7272-4608-a2d4-0467fd4c5cdf"
      },
      "execution_count": 461,
      "outputs": [
        {
          "output_type": "stream",
          "name": "stdout",
          "text": [
            "[ 0.          3.83117604 -0.11219682]\n",
            "981.5166962503728\n"
          ]
        }
      ]
    },
    {
      "cell_type": "code",
      "source": [
        "plt.scatter(X_train,lin_reg1.predict(X_train_p))\n",
        "plt.scatter(X_train,y_train)\n",
        "plt.title(\"scatter plot of best fit line of degree 2\")\n",
        "plt.show()"
      ],
      "metadata": {
        "colab": {
          "base_uri": "https://localhost:8080/",
          "height": 452
        },
        "id": "4dfGsF11jeQ1",
        "outputId": "4f4df754-4903-49c0-d4fe-44caa86ee798"
      },
      "execution_count": 462,
      "outputs": [
        {
          "output_type": "display_data",
          "data": {
            "text/plain": [
              "<Figure size 640x480 with 1 Axes>"
            ],
            "image/png": "[encoded data removed]"
          },
          "metadata": {}
        }
      ]
    },
    {
      "cell_type": "code",
      "source": [
        "from sklearn.metrics import r2_score\n",
        "y_predict1=lin_reg1.predict(X_test_p)\n",
        "score1=r2_score(y_test,y_predict1)\n",
        "score1"
      ],
      "metadata": {
        "colab": {
          "base_uri": "https://localhost:8080/"
        },
        "id": "VKfekgfPkqf-",
        "outputId": "f1a26dd3-68bb-418b-dea6-012831c78444"
      },
      "execution_count": 463,
      "outputs": [
        {
          "output_type": "execute_result",
          "data": {
            "text/plain": [
              "0.5837708612084538"
            ]
          },
          "metadata": {},
          "execution_count": 463
        }
      ]
    },
    {
      "cell_type": "markdown",
      "source": [
        "MSE of model 1 with degree 2\n"
      ],
      "metadata": {
        "id": "UNq1UHsJlQs_"
      }
    },
    {
      "cell_type": "code",
      "source": [
        "mse1=sum((y_predict1-y_test)**2)/1266\n",
        "mse1"
      ],
      "metadata": {
        "colab": {
          "base_uri": "https://localhost:8080/"
        },
        "id": "i-uvXMoUk6mm",
        "outputId": "31fd6f80-c963-409b-b57c-558be6cc8505"
      },
      "execution_count": 464,
      "outputs": [
        {
          "output_type": "execute_result",
          "data": {
            "text/plain": [
              "28.752936507144916"
            ]
          },
          "metadata": {},
          "execution_count": 464
        }
      ]
    },
    {
      "cell_type": "markdown",
      "source": [
        "mae of model 1 with degree of 2"
      ],
      "metadata": {
        "id": "Om-uAd_onYcG"
      }
    },
    {
      "cell_type": "code",
      "source": [
        "mae1=sum(abs(y_predict1-y_test))/1266\n",
        "mae1"
      ],
      "metadata": {
        "colab": {
          "base_uri": "https://localhost:8080/"
        },
        "id": "jpScDbArmtT3",
        "outputId": "72c7f91c-1284-4671-c219-4497cb5de1b2"
      },
      "execution_count": 465,
      "outputs": [
        {
          "output_type": "execute_result",
          "data": {
            "text/plain": [
              "3.829961526359636"
            ]
          },
          "metadata": {},
          "execution_count": 465
        }
      ]
    },
    {
      "cell_type": "markdown",
      "source": [
        "polynomial regression of degree 3 implementation"
      ],
      "metadata": {
        "id": "gVxFjq8fnPPU"
      }
    },
    {
      "cell_type": "code",
      "source": [
        "pol=PolynomialFeatures(degree=3,include_bias=True)\n",
        "X_train_p=pol.fit_transform(X_train)\n",
        "X_test_p=pol.fit_transform(X_test)"
      ],
      "metadata": {
        "id": "dG88NHDDnAzg"
      },
      "execution_count": 466,
      "outputs": []
    },
    {
      "cell_type": "code",
      "source": [
        "X_train_p"
      ],
      "metadata": {
        "colab": {
          "base_uri": "https://localhost:8080/"
        },
        "id": "cniGcVQcnzwc",
        "outputId": "93af88a7-b4f4-4ccf-9814-89c09d16733b"
      },
      "execution_count": 467,
      "outputs": [
        {
          "output_type": "execute_result",
          "data": {
            "text/plain": [
              "array([[1.0000000e+00, 3.0000000e+01, 9.0000000e+02, 2.7000000e+04],\n",
              "       [1.0000000e+00, 2.1700000e+01, 4.7089000e+02, 1.0218313e+04],\n",
              "       [1.0000000e+00, 2.8600000e+01, 8.1796000e+02, 2.3393656e+04],\n",
              "       ...,\n",
              "       [1.0000000e+00, 2.2700000e+01, 5.1529000e+02, 1.1697083e+04],\n",
              "       [1.0000000e+00, 2.8600000e+01, 8.1796000e+02, 2.3393656e+04],\n",
              "       [1.0000000e+00, 2.6600000e+01, 7.0756000e+02, 1.8821096e+04]])"
            ]
          },
          "metadata": {},
          "execution_count": 467
        }
      ]
    },
    {
      "cell_type": "code",
      "source": [
        "X_test_p"
      ],
      "metadata": {
        "colab": {
          "base_uri": "https://localhost:8080/"
        },
        "id": "Z8j9JoLJn3II",
        "outputId": "df178d59-bb06-44bb-9d4f-be92d903bf0c"
      },
      "execution_count": 468,
      "outputs": [
        {
          "output_type": "execute_result",
          "data": {
            "text/plain": [
              "array([[1.0000000e+00, 2.8000000e+01, 7.8400000e+02, 2.1952000e+04],\n",
              "       [1.0000000e+00, 2.7400000e+01, 7.5076000e+02, 2.0570824e+04],\n",
              "       [1.0000000e+00, 2.9000000e+01, 8.4100000e+02, 2.4389000e+04],\n",
              "       ...,\n",
              "       [1.0000000e+00, 2.2900000e+01, 5.2441000e+02, 1.2008989e+04],\n",
              "       [1.0000000e+00, 2.8000000e+01, 7.8400000e+02, 2.1952000e+04],\n",
              "       [1.0000000e+00, 2.8600000e+01, 8.1796000e+02, 2.3393656e+04]])"
            ]
          },
          "metadata": {},
          "execution_count": 468
        }
      ]
    },
    {
      "cell_type": "code",
      "source": [
        "lin_reg2=LinearRegression()\n",
        "lin_reg2.fit(X_train_p,y_train)\n",
        "print(lin_reg2.coef_)\n",
        "print(lin_reg2.intercept_)"
      ],
      "metadata": {
        "colab": {
          "base_uri": "https://localhost:8080/"
        },
        "id": "nJ7Gj5Mgn5S7",
        "outputId": "cf116631-afd0-4f9a-e7d8-9d5273c6fb68"
      },
      "execution_count": 469,
      "outputs": [
        {
          "output_type": "stream",
          "name": "stdout",
          "text": [
            "[ 0.00000000e+00  2.70397823e+01 -1.14911236e+00  1.50193043e-02]\n",
            "813.959169699261\n"
          ]
        }
      ]
    },
    {
      "cell_type": "code",
      "source": [
        "plt.scatter(X_train,lin_reg2.predict(X_train_p))\n",
        "plt.scatter(X_train,y_train)\n",
        "plt.xlabel('temperature')\n",
        "plt.ylabel('pressure')\n",
        "\n",
        "plt.title(\"scatter plot of best fit line of degree 3\")\n",
        "plt.show()"
      ],
      "metadata": {
        "colab": {
          "base_uri": "https://localhost:8080/",
          "height": 472
        },
        "id": "1sJF5jqyn9rw",
        "outputId": "f139607d-e065-4f31-c0f3-ef2652db70f5"
      },
      "execution_count": 470,
      "outputs": [
        {
          "output_type": "display_data",
          "data": {
            "text/plain": [
              "<Figure size 640x480 with 1 Axes>"
            ],
            "image/png": "[encoded data removed]"
          },
          "metadata": {}
        }
      ]
    },
    {
      "cell_type": "code",
      "source": [
        "y_predict2=lin_reg2.predict(X_test_p)\n",
        "score2=r2_score(y_test,y_predict2)\n",
        "score2"
      ],
      "metadata": {
        "colab": {
          "base_uri": "https://localhost:8080/"
        },
        "id": "1bm9AssPoEby",
        "outputId": "8c7470d9-029c-4df9-d537-eca208c89c7c"
      },
      "execution_count": 471,
      "outputs": [
        {
          "output_type": "execute_result",
          "data": {
            "text/plain": [
              "0.6000431907310297"
            ]
          },
          "metadata": {},
          "execution_count": 471
        }
      ]
    },
    {
      "cell_type": "markdown",
      "source": [
        "MSE of model 2 with degree 3"
      ],
      "metadata": {
        "id": "med8fb0qpZrE"
      }
    },
    {
      "cell_type": "code",
      "source": [
        "mse2=sum((y_predict2-y_test)**2)/1266\n",
        "mse2"
      ],
      "metadata": {
        "colab": {
          "base_uri": "https://localhost:8080/"
        },
        "id": "TysOgQxPpQeF",
        "outputId": "fe276722-1cbd-48f7-d1d8-fcc5dd3a3243"
      },
      "execution_count": 472,
      "outputs": [
        {
          "output_type": "execute_result",
          "data": {
            "text/plain": [
              "27.62885072366429"
            ]
          },
          "metadata": {},
          "execution_count": 472
        }
      ]
    },
    {
      "cell_type": "markdown",
      "source": [
        "mae of model 1 with degree of 3"
      ],
      "metadata": {
        "id": "CSfFNxdipuL5"
      }
    },
    {
      "cell_type": "code",
      "source": [
        "mae2=sum(abs(y_predict2-y_test))/1266\n",
        "mae2"
      ],
      "metadata": {
        "colab": {
          "base_uri": "https://localhost:8080/"
        },
        "id": "kV012GG4pnQk",
        "outputId": "38105397-bf86-4516-c3be-32612238e4e5"
      },
      "execution_count": 473,
      "outputs": [
        {
          "output_type": "execute_result",
          "data": {
            "text/plain": [
              "3.8585174405725318"
            ]
          },
          "metadata": {},
          "execution_count": 473
        }
      ]
    },
    {
      "cell_type": "markdown",
      "source": [
        "train test split 70:30"
      ],
      "metadata": {
        "id": "6GqtJm7s3QzJ"
      }
    },
    {
      "cell_type": "code",
      "source": [
        "X_train,X_test,y_train, y_test = train_test_split(X, y, test_size=0.3, random_state=44 )"
      ],
      "metadata": {
        "id": "Se0hqe6Cp106"
      },
      "execution_count": 474,
      "outputs": []
    },
    {
      "cell_type": "code",
      "source": [
        "from sklearn.preprocessing import PolynomialFeatures\n",
        "pol=PolynomialFeatures(degree=4,include_bias=True)\n",
        "X_train_p=pol.fit_transform(X_train)\n",
        "X_test_p=pol.fit_transform(X_test)"
      ],
      "metadata": {
        "id": "JmVCn0g96M0V"
      },
      "execution_count": 475,
      "outputs": []
    },
    {
      "cell_type": "code",
      "source": [
        "X_train_p"
      ],
      "metadata": {
        "colab": {
          "base_uri": "https://localhost:8080/"
        },
        "id": "BZ6zeJb368nl",
        "outputId": "62d3dc48-48b5-4431-8899-35b86371e696"
      },
      "execution_count": 476,
      "outputs": [
        {
          "output_type": "execute_result",
          "data": {
            "text/plain": [
              "array([[1.00000000e+00, 2.85000000e+01, 8.12250000e+02, 2.31491250e+04,\n",
              "        6.59750062e+05],\n",
              "       [1.00000000e+00, 2.42000000e+01, 5.85640000e+02, 1.41724880e+04,\n",
              "        3.42974210e+05],\n",
              "       [1.00000000e+00, 1.51000000e+01, 2.28010000e+02, 3.44295100e+03,\n",
              "        5.19885601e+04],\n",
              "       ...,\n",
              "       [1.00000000e+00, 2.27000000e+01, 5.15290000e+02, 1.16970830e+04,\n",
              "        2.65523784e+05],\n",
              "       [1.00000000e+00, 2.86000000e+01, 8.17960000e+02, 2.33936560e+04,\n",
              "        6.69058562e+05],\n",
              "       [1.00000000e+00, 2.66000000e+01, 7.07560000e+02, 1.88210960e+04,\n",
              "        5.00641154e+05]])"
            ]
          },
          "metadata": {},
          "execution_count": 476
        }
      ]
    },
    {
      "cell_type": "code",
      "source": [
        "X_test_p"
      ],
      "metadata": {
        "colab": {
          "base_uri": "https://localhost:8080/"
        },
        "id": "ZNv9gBUG-xPR",
        "outputId": "bc97c9d3-8b8e-4b5d-942d-92f9d0e40427"
      },
      "execution_count": 477,
      "outputs": [
        {
          "output_type": "execute_result",
          "data": {
            "text/plain": [
              "array([[1.00000000e+00, 2.80000000e+01, 7.84000000e+02, 2.19520000e+04,\n",
              "        6.14656000e+05],\n",
              "       [1.00000000e+00, 2.74000000e+01, 7.50760000e+02, 2.05708240e+04,\n",
              "        5.63640578e+05],\n",
              "       [1.00000000e+00, 2.90000000e+01, 8.41000000e+02, 2.43890000e+04,\n",
              "        7.07281000e+05],\n",
              "       ...,\n",
              "       [1.00000000e+00, 2.04000000e+01, 4.16160000e+02, 8.48966400e+03,\n",
              "        1.73189146e+05],\n",
              "       [1.00000000e+00, 2.91000000e+01, 8.46810000e+02, 2.46421710e+04,\n",
              "        7.17087176e+05],\n",
              "       [1.00000000e+00, 2.14000000e+01, 4.57960000e+02, 9.80034400e+03,\n",
              "        2.09727362e+05]])"
            ]
          },
          "metadata": {},
          "execution_count": 477
        }
      ]
    },
    {
      "cell_type": "markdown",
      "source": [
        "coefficient and intercept calculation"
      ],
      "metadata": {
        "id": "xYE-QQ9B_KMQ"
      }
    },
    {
      "cell_type": "code",
      "source": [
        "lin_reg3=LinearRegression()\n",
        "lin_reg3.fit(X_train_p,y_train)\n",
        "print(lin_reg3.coef_)\n",
        "print(lin_reg3.intercept_)"
      ],
      "metadata": {
        "colab": {
          "base_uri": "https://localhost:8080/"
        },
        "id": "s5r-jDIs_DvT",
        "outputId": "cf1122a7-4078-4d8e-df81-97d15e74e147"
      },
      "execution_count": 478,
      "outputs": [
        {
          "output_type": "stream",
          "name": "stdout",
          "text": [
            "[ 0.00000000e+00 -1.95604593e+02  1.39232065e+01 -4.29136972e-01\n",
            "  4.81550801e-03]\n",
            "2020.0257635005983\n"
          ]
        }
      ]
    },
    {
      "cell_type": "markdown",
      "source": [
        "VISUALISING BEST FIT OF POLYNOMIAL REGRESSION OF DEGREE 4"
      ],
      "metadata": {
        "id": "rYmytYQw_S2s"
      }
    },
    {
      "cell_type": "code",
      "source": [
        "plt.scatter(X_train,lin_reg3.predict(X_train_p))\n",
        "plt.scatter(X_train,y_train)\n",
        "plt.xlabel('temperature')\n",
        "plt.ylabel('pressure')\n",
        "\n",
        "plt.title(\"scatter plot of best fit line of degree 3\")\n",
        "plt.show()"
      ],
      "metadata": {
        "colab": {
          "base_uri": "https://localhost:8080/",
          "height": 472
        },
        "id": "NDPUGMmX_Qjw",
        "outputId": "1977075b-4f16-4aa7-c432-d2ed675e1977"
      },
      "execution_count": 479,
      "outputs": [
        {
          "output_type": "display_data",
          "data": {
            "text/plain": [
              "<Figure size 640x480 with 1 Axes>"
            ],
            "image/png": "[encoded data removed]"
          },
          "metadata": {}
        }
      ]
    },
    {
      "cell_type": "code",
      "source": [
        "y_predict3=lin_reg3.predict(X_test_p)\n",
        "score3=r2_score(y_test,y_predict3)\n",
        "score3"
      ],
      "metadata": {
        "colab": {
          "base_uri": "https://localhost:8080/"
        },
        "id": "jYZbK_Vs_gSn",
        "outputId": "fa594a0e-d51b-494f-94f1-0d2e02e5f508"
      },
      "execution_count": 481,
      "outputs": [
        {
          "output_type": "execute_result",
          "data": {
            "text/plain": [
              "0.6120593872404212"
            ]
          },
          "metadata": {},
          "execution_count": 481
        }
      ]
    },
    {
      "cell_type": "markdown",
      "source": [
        "mse of polynomial regression for degree 4"
      ],
      "metadata": {
        "id": "pY2rnEjEA1iZ"
      }
    },
    {
      "cell_type": "code",
      "source": [
        "mse3=sum((y_predict3-y_test)**2)/863\n",
        "mse3"
      ],
      "metadata": {
        "colab": {
          "base_uri": "https://localhost:8080/"
        },
        "id": "YRncthHX_09D",
        "outputId": "4b677ef4-76a9-41b7-a362-122cafa3e636"
      },
      "execution_count": 482,
      "outputs": [
        {
          "output_type": "execute_result",
          "data": {
            "text/plain": [
              "26.71089641691194"
            ]
          },
          "metadata": {},
          "execution_count": 482
        }
      ]
    },
    {
      "cell_type": "markdown",
      "source": [
        "mae of polynomial regression of degree 4"
      ],
      "metadata": {
        "id": "_DOt4nzGA9B6"
      }
    },
    {
      "cell_type": "code",
      "source": [
        "mae3=sum(abs(y_predict3-y_test))/863\n",
        "mae3"
      ],
      "metadata": {
        "colab": {
          "base_uri": "https://localhost:8080/"
        },
        "id": "1b_SffgTAkHn",
        "outputId": "43ddff06-b3c0-4878-f5be-2eb6299946ff"
      },
      "execution_count": 485,
      "outputs": [
        {
          "output_type": "execute_result",
          "data": {
            "text/plain": [
              "3.446870925916599"
            ]
          },
          "metadata": {},
          "execution_count": 485
        }
      ]
    },
    {
      "cell_type": "markdown",
      "source": [
        "polynomial regression  model of degree 5\n"
      ],
      "metadata": {
        "id": "vDk8UfbyBFxs"
      }
    },
    {
      "cell_type": "code",
      "source": [
        "pol=PolynomialFeatures(degree=5,include_bias=True)\n",
        "X_train_p=pol.fit_transform(X_train)\n",
        "X_test_p=pol.fit_transform(X_test)\n"
      ],
      "metadata": {
        "id": "1Wlq5WGXArrO"
      },
      "execution_count": 492,
      "outputs": []
    },
    {
      "cell_type": "code",
      "source": [
        "X_train_p"
      ],
      "metadata": {
        "colab": {
          "base_uri": "https://localhost:8080/"
        },
        "id": "ReTl0UxKBOym",
        "outputId": "a7b1918e-41ac-41c0-832d-36b7e92703df"
      },
      "execution_count": 493,
      "outputs": [
        {
          "output_type": "execute_result",
          "data": {
            "text/plain": [
              "array([[1.00000000e+00, 2.85000000e+01, 8.12250000e+02, 2.31491250e+04,\n",
              "        6.59750062e+05, 1.88028768e+07],\n",
              "       [1.00000000e+00, 2.42000000e+01, 5.85640000e+02, 1.41724880e+04,\n",
              "        3.42974210e+05, 8.29997587e+06],\n",
              "       [1.00000000e+00, 1.51000000e+01, 2.28010000e+02, 3.44295100e+03,\n",
              "        5.19885601e+04, 7.85027258e+05],\n",
              "       ...,\n",
              "       [1.00000000e+00, 2.27000000e+01, 5.15290000e+02, 1.16970830e+04,\n",
              "        2.65523784e+05, 6.02738990e+06],\n",
              "       [1.00000000e+00, 2.86000000e+01, 8.17960000e+02, 2.33936560e+04,\n",
              "        6.69058562e+05, 1.91350749e+07],\n",
              "       [1.00000000e+00, 2.66000000e+01, 7.07560000e+02, 1.88210960e+04,\n",
              "        5.00641154e+05, 1.33170547e+07]])"
            ]
          },
          "metadata": {},
          "execution_count": 493
        }
      ]
    },
    {
      "cell_type": "code",
      "source": [
        "X_test_p"
      ],
      "metadata": {
        "colab": {
          "base_uri": "https://localhost:8080/"
        },
        "id": "DJ7wqKthBRyN",
        "outputId": "9e72119d-5144-48e2-dd2f-0c3c01b3a60b"
      },
      "execution_count": 494,
      "outputs": [
        {
          "output_type": "execute_result",
          "data": {
            "text/plain": [
              "array([[1.00000000e+00, 2.80000000e+01, 7.84000000e+02, 2.19520000e+04,\n",
              "        6.14656000e+05, 1.72103680e+07],\n",
              "       [1.00000000e+00, 2.74000000e+01, 7.50760000e+02, 2.05708240e+04,\n",
              "        5.63640578e+05, 1.54437518e+07],\n",
              "       [1.00000000e+00, 2.90000000e+01, 8.41000000e+02, 2.43890000e+04,\n",
              "        7.07281000e+05, 2.05111490e+07],\n",
              "       ...,\n",
              "       [1.00000000e+00, 2.04000000e+01, 4.16160000e+02, 8.48966400e+03,\n",
              "        1.73189146e+05, 3.53305857e+06],\n",
              "       [1.00000000e+00, 2.91000000e+01, 8.46810000e+02, 2.46421710e+04,\n",
              "        7.17087176e+05, 2.08672368e+07],\n",
              "       [1.00000000e+00, 2.14000000e+01, 4.57960000e+02, 9.80034400e+03,\n",
              "        2.09727362e+05, 4.48816554e+06]])"
            ]
          },
          "metadata": {},
          "execution_count": 494
        }
      ]
    },
    {
      "cell_type": "code",
      "source": [
        "lin_reg4=LinearRegression()\n",
        "lin_reg4.fit(X_train_p,y_train)\n",
        "print(lin_reg4.coef_)\n",
        "print(lin_reg4.intercept_)"
      ],
      "metadata": {
        "colab": {
          "base_uri": "https://localhost:8080/"
        },
        "id": "vZ6D5DgDBUQL",
        "outputId": "ca535bbf-9d91-4cd1-8c42-7d2c16f6a2e0"
      },
      "execution_count": 495,
      "outputs": [
        {
          "output_type": "stream",
          "name": "stdout",
          "text": [
            "[ 0.00000000e+00 -1.05356582e+03  9.20888707e+01 -3.93212198e+00\n",
            "  8.20907228e-02 -6.71850798e-04]\n",
            "5724.065269159502\n"
          ]
        }
      ]
    },
    {
      "cell_type": "markdown",
      "source": [
        "VISUALISING BEST FIT OF POLYNOMIAL REGRESSION OF DEGREE 5"
      ],
      "metadata": {
        "id": "IY5AjJrPBgKW"
      }
    },
    {
      "cell_type": "code",
      "source": [
        "plt.scatter(X_train,lin_reg4.predict(X_train_p))\n",
        "plt.scatter(X_train,y_train)\n",
        "plt.xlabel('temperature')\n",
        "plt.ylabel('pressure')\n",
        "\n",
        "plt.title(\"scatter plot of best fit line of degree 3\")\n",
        "plt.show()"
      ],
      "metadata": {
        "colab": {
          "base_uri": "https://localhost:8080/",
          "height": 472
        },
        "id": "ysC3A4usBb2E",
        "outputId": "043e52d4-e970-4510-b533-6a4527cb94f4"
      },
      "execution_count": 496,
      "outputs": [
        {
          "output_type": "display_data",
          "data": {
            "text/plain": [
              "<Figure size 640x480 with 1 Axes>"
            ],
            "image/png": "[encoded data removed]"
          },
          "metadata": {}
        }
      ]
    },
    {
      "cell_type": "code",
      "source": [
        "y_predict4=lin_reg4.predict(X_test_p)\n",
        "score4=r2_score(y_test,y_predict4)\n",
        "score4"
      ],
      "metadata": {
        "colab": {
          "base_uri": "https://localhost:8080/"
        },
        "id": "F9VO_W6wBjTV",
        "outputId": "831c5f57-2b62-45c2-fc4f-930f47ec270a"
      },
      "execution_count": 497,
      "outputs": [
        {
          "output_type": "execute_result",
          "data": {
            "text/plain": [
              "0.6311054959264424"
            ]
          },
          "metadata": {},
          "execution_count": 497
        }
      ]
    },
    {
      "cell_type": "markdown",
      "source": [
        "mse calculated for polynomial regression"
      ],
      "metadata": {
        "id": "q45oiL4LCLgR"
      }
    },
    {
      "cell_type": "code",
      "source": [
        "mse4=sum((y_predict4-y_test)**2)/863\n",
        "mse4"
      ],
      "metadata": {
        "colab": {
          "base_uri": "https://localhost:8080/"
        },
        "id": "BUz3IuQaB4C3",
        "outputId": "6278a8ef-905c-41ce-8b0c-cbbb41c1a65b"
      },
      "execution_count": 498,
      "outputs": [
        {
          "output_type": "execute_result",
          "data": {
            "text/plain": [
              "25.399513644588268"
            ]
          },
          "metadata": {},
          "execution_count": 498
        }
      ]
    },
    {
      "cell_type": "markdown",
      "source": [
        "mean absolute error for polynomial regression of degree 5"
      ],
      "metadata": {
        "id": "qVNT31NECesY"
      }
    },
    {
      "cell_type": "code",
      "source": [
        "mae4=sum(abs(y_predict4-y_test))/863\n",
        "mae4"
      ],
      "metadata": {
        "colab": {
          "base_uri": "https://localhost:8080/"
        },
        "id": "ku-9jy4tCZa3",
        "outputId": "fa9da4fb-b5aa-495b-894a-df857dd28b09"
      },
      "execution_count": 499,
      "outputs": [
        {
          "output_type": "execute_result",
          "data": {
            "text/plain": [
              "3.552962917361423"
            ]
          },
          "metadata": {},
          "execution_count": 499
        }
      ]
    },
    {
      "cell_type": "markdown",
      "source": [
        "training and spliting of data 80:20"
      ],
      "metadata": {
        "id": "uU-UBuM8Cuq_"
      }
    },
    {
      "cell_type": "code",
      "source": [
        "X_train"
      ],
      "metadata": {
        "id": "0BRXywwaCrC7"
      },
      "execution_count": null,
      "outputs": []
    }
  ],
  "metadata": {
    "colab": {
      "provenance": [],
      "mount_file_id": "1kvIGXow0JZhBF9x60i2w0-7ANiQ9W9ho",
      "authorship_tag": "ABX9TyNfenTf5bHuY2bk0y7nKKp2",
      "include_colab_link": true
    },
    "kernelspec": {
      "display_name": "Python 3",
      "name": "python3"
    },
    "language_info": {
      "name": "python"
    }
  },
  "nbformat": 4,
  "nbformat_minor": 0
}