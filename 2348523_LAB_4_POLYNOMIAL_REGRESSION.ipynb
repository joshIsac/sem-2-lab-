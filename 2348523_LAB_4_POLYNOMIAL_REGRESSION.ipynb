{
  "cells": [
    {
      "cell_type": "markdown",
      "metadata": {
        "id": "view-in-github",
        "colab_type": "text"
      },
      "source": [
        "<a href=\"https://colab.research.google.com/github/joshIsac/sem-2-lab-/blob/main/2348523_LAB_4_POLYNOMIAL_REGRESSION.ipynb\" target=\"_parent\"><img src=\"https://colab.research.google.com/assets/colab-badge.svg\" alt=\"Open In Colab\"/></a>"
      ]
    },
    {
      "cell_type": "code",
      "execution_count": 667,
      "metadata": {
        "id": "qe65VRyzC2Ek"
      },
      "outputs": [],
      "source": [
        "import pandas as pd\n",
        "import numpy as np\n",
        "import matplotlib.pyplot as plt\n",
        "import seaborn as sn"
      ]
    },
    {
      "cell_type": "code",
      "execution_count": 668,
      "metadata": {
        "colab": {
          "base_uri": "https://localhost:8080/"
        },
        "id": "yZaaj1SQDarz",
        "outputId": "219cd6a2-0298-455d-8937-da64b49fa702"
      },
      "outputs": [
        {
          "output_type": "execute_result",
          "data": {
            "text/plain": [
              "<bound method NDFrame.head of       index  OS_Time_Stamp  Temperature  Pressure  Humidity  \\\n",
              "0         0     1456761674         17.7    1015.2      76.4   \n",
              "1         1     1456761733         17.7    1015.3      76.4   \n",
              "2         2     1456761792         17.7    1015.3      76.5   \n",
              "3         3     1456761853         17.7    1015.3      76.7   \n",
              "4         4     1456761912         17.6    1015.2      76.8   \n",
              "...     ...            ...          ...       ...       ...   \n",
              "2873    118     1456768752         16.7    1015.1      81.9   \n",
              "2874    119     1456768823         16.7    1015.1      82.0   \n",
              "2875    120     1456768873         16.7    1015.1      81.9   \n",
              "2876    121     1456768932         16.7    1015.1      81.7   \n",
              "2877    122     1456768992         16.6    1015.1      81.4   \n",
              "\n",
              "                      TimeStamp  \n",
              "0     2016-03-01 00:01:14+08:00  \n",
              "1     2016-03-01 00:02:13+08:00  \n",
              "2     2016-03-01 00:03:12+08:00  \n",
              "3     2016-03-01 00:04:13+08:00  \n",
              "4     2016-03-01 00:05:12+08:00  \n",
              "...                         ...  \n",
              "2873  2016-03-01 01:59:12+08:00  \n",
              "2874  2016-03-01 02:00:23+08:00  \n",
              "2875  2016-03-01 02:01:13+08:00  \n",
              "2876  2016-03-01 02:02:12+08:00  \n",
              "2877  2016-03-01 02:03:12+08:00  \n",
              "\n",
              "[2878 rows x 6 columns]>"
            ]
          },
          "metadata": {},
          "execution_count": 668
        }
      ],
      "source": [
        "data=pd.read_csv('/content/drive/MyDrive/Program_4_Dataset.csv')\n",
        "data.head\n"
      ]
    },
    {
      "cell_type": "code",
      "execution_count": 669,
      "metadata": {
        "colab": {
          "base_uri": "https://localhost:8080/",
          "height": 597
        },
        "id": "nlwXG-jzFjRY",
        "outputId": "ba847ce4-ef1a-466a-80cf-8181634de520"
      },
      "outputs": [
        {
          "output_type": "execute_result",
          "data": {
            "text/plain": [
              "      index  OS_Time_Stamp  Temperature  Pressure  Humidity  \\\n",
              "0         0     1456761674         17.7    1015.2      76.4   \n",
              "1         1     1456761733         17.7    1015.3      76.4   \n",
              "2         2     1456761792         17.7    1015.3      76.5   \n",
              "3         3     1456761853         17.7    1015.3      76.7   \n",
              "4         4     1456761912         17.6    1015.2      76.8   \n",
              "...     ...            ...          ...       ...       ...   \n",
              "2873    118     1456768752         16.7    1015.1      81.9   \n",
              "2874    119     1456768823         16.7    1015.1      82.0   \n",
              "2875    120     1456768873         16.7    1015.1      81.9   \n",
              "2876    121     1456768932         16.7    1015.1      81.7   \n",
              "2877    122     1456768992         16.6    1015.1      81.4   \n",
              "\n",
              "                      TimeStamp  \n",
              "0     2016-03-01 00:01:14+08:00  \n",
              "1     2016-03-01 00:02:13+08:00  \n",
              "2     2016-03-01 00:03:12+08:00  \n",
              "3     2016-03-01 00:04:13+08:00  \n",
              "4     2016-03-01 00:05:12+08:00  \n",
              "...                         ...  \n",
              "2873  2016-03-01 01:59:12+08:00  \n",
              "2874  2016-03-01 02:00:23+08:00  \n",
              "2875  2016-03-01 02:01:13+08:00  \n",
              "2876  2016-03-01 02:02:12+08:00  \n",
              "2877  2016-03-01 02:03:12+08:00  \n",
              "\n",
              "[2878 rows x 6 columns]"
            ],
            "text/html": [
              "\n",
              "  <div id=\"df-fa24e46e-f17f-45aa-a6f4-d75ac2ce6f4b\" class=\"colab-df-container\">\n",
              "    <div>\n",
              "<style scoped>\n",
              "    .dataframe tbody tr th:only-of-type {\n",
              "        vertical-align: middle;\n",
              "    }\n",
              "\n",
              "    .dataframe tbody tr th {\n",
              "        vertical-align: top;\n",
              "    }\n",
              "\n",
              "    .dataframe thead th {\n",
              "        text-align: right;\n",
              "    }\n",
              "</style>\n",
              "<table border=\"1\" class=\"dataframe\">\n",
              "  <thead>\n",
              "    <tr style=\"text-align: right;\">\n",
              "      <th></th>\n",
              "      <th>index</th>\n",
              "      <th>OS_Time_Stamp</th>\n",
              "      <th>Temperature</th>\n",
              "      <th>Pressure</th>\n",
              "      <th>Humidity</th>\n",
              "      <th>TimeStamp</th>\n",
              "    </tr>\n",
              "  </thead>\n",
              "  <tbody>\n",
              "    <tr>\n",
              "      <th>0</th>\n",
              "      <td>0</td>\n",
              "      <td>1456761674</td>\n",
              "      <td>17.7</td>\n",
              "      <td>1015.2</td>\n",
              "      <td>76.4</td>\n",
              "      <td>2016-03-01 00:01:14+08:00</td>\n",
              "    </tr>\n",
              "    <tr>\n",
              "      <th>1</th>\n",
              "      <td>1</td>\n",
              "      <td>1456761733</td>\n",
              "      <td>17.7</td>\n",
              "      <td>1015.3</td>\n",
              "      <td>76.4</td>\n",
              "      <td>2016-03-01 00:02:13+08:00</td>\n",
              "    </tr>\n",
              "    <tr>\n",
              "      <th>2</th>\n",
              "      <td>2</td>\n",
              "      <td>1456761792</td>\n",
              "      <td>17.7</td>\n",
              "      <td>1015.3</td>\n",
              "      <td>76.5</td>\n",
              "      <td>2016-03-01 00:03:12+08:00</td>\n",
              "    </tr>\n",
              "    <tr>\n",
              "      <th>3</th>\n",
              "      <td>3</td>\n",
              "      <td>1456761853</td>\n",
              "      <td>17.7</td>\n",
              "      <td>1015.3</td>\n",
              "      <td>76.7</td>\n",
              "      <td>2016-03-01 00:04:13+08:00</td>\n",
              "    </tr>\n",
              "    <tr>\n",
              "      <th>4</th>\n",
              "      <td>4</td>\n",
              "      <td>1456761912</td>\n",
              "      <td>17.6</td>\n",
              "      <td>1015.2</td>\n",
              "      <td>76.8</td>\n",
              "      <td>2016-03-01 00:05:12+08:00</td>\n",
              "    </tr>\n",
              "    <tr>\n",
              "      <th>...</th>\n",
              "      <td>...</td>\n",
              "      <td>...</td>\n",
              "      <td>...</td>\n",
              "      <td>...</td>\n",
              "      <td>...</td>\n",
              "      <td>...</td>\n",
              "    </tr>\n",
              "    <tr>\n",
              "      <th>2873</th>\n",
              "      <td>118</td>\n",
              "      <td>1456768752</td>\n",
              "      <td>16.7</td>\n",
              "      <td>1015.1</td>\n",
              "      <td>81.9</td>\n",
              "      <td>2016-03-01 01:59:12+08:00</td>\n",
              "    </tr>\n",
              "    <tr>\n",
              "      <th>2874</th>\n",
              "      <td>119</td>\n",
              "      <td>1456768823</td>\n",
              "      <td>16.7</td>\n",
              "      <td>1015.1</td>\n",
              "      <td>82.0</td>\n",
              "      <td>2016-03-01 02:00:23+08:00</td>\n",
              "    </tr>\n",
              "    <tr>\n",
              "      <th>2875</th>\n",
              "      <td>120</td>\n",
              "      <td>1456768873</td>\n",
              "      <td>16.7</td>\n",
              "      <td>1015.1</td>\n",
              "      <td>81.9</td>\n",
              "      <td>2016-03-01 02:01:13+08:00</td>\n",
              "    </tr>\n",
              "    <tr>\n",
              "      <th>2876</th>\n",
              "      <td>121</td>\n",
              "      <td>1456768932</td>\n",
              "      <td>16.7</td>\n",
              "      <td>1015.1</td>\n",
              "      <td>81.7</td>\n",
              "      <td>2016-03-01 02:02:12+08:00</td>\n",
              "    </tr>\n",
              "    <tr>\n",
              "      <th>2877</th>\n",
              "      <td>122</td>\n",
              "      <td>1456768992</td>\n",
              "      <td>16.6</td>\n",
              "      <td>1015.1</td>\n",
              "      <td>81.4</td>\n",
              "      <td>2016-03-01 02:03:12+08:00</td>\n",
              "    </tr>\n",
              "  </tbody>\n",
              "</table>\n",
              "<p>2878 rows × 6 columns</p>\n",
              "</div>\n",
              "    <div class=\"colab-df-buttons\">\n",
              "\n",
              "  <div class=\"colab-df-container\">\n",
              "    <button class=\"colab-df-convert\" onclick=\"convertToInteractive('df-fa24e46e-f17f-45aa-a6f4-d75ac2ce6f4b')\"\n",
              "            title=\"Convert this dataframe to an interactive table.\"\n",
              "            style=\"display:none;\">\n",
              "\n",
              "  <svg xmlns=\"http://www.w3.org/2000/svg\" height=\"24px\" viewBox=\"0 -960 960 960\">\n",
              "    <path d=\"M120-120v-720h720v720H120Zm60-500h600v-160H180v160Zm220 220h160v-160H400v160Zm0 220h160v-160H400v160ZM180-400h160v-160H180v160Zm440 0h160v-160H620v160ZM180-180h160v-160H180v160Zm440 0h160v-160H620v160Z\"/>\n",
              "  </svg>\n",
              "    </button>\n",
              "\n",
              "  <style>\n",
              "    .colab-df-container {\n",
              "      display:flex;\n",
              "      gap: 12px;\n",
              "    }\n",
              "\n",
              "    .colab-df-convert {\n",
              "      background-color: #E8F0FE;\n",
              "      border: none;\n",
              "      border-radius: 50%;\n",
              "      cursor: pointer;\n",
              "      display: none;\n",
              "      fill: #1967D2;\n",
              "      height: 32px;\n",
              "      padding: 0 0 0 0;\n",
              "      width: 32px;\n",
              "    }\n",
              "\n",
              "    .colab-df-convert:hover {\n",
              "      background-color: #E2EBFA;\n",
              "      box-shadow: 0px 1px 2px rgba(60, 64, 67, 0.3), 0px 1px 3px 1px rgba(60, 64, 67, 0.15);\n",
              "      fill: #174EA6;\n",
              "    }\n",
              "\n",
              "    .colab-df-buttons div {\n",
              "      margin-bottom: 4px;\n",
              "    }\n",
              "\n",
              "    [theme=dark] .colab-df-convert {\n",
              "      background-color: #3B4455;\n",
              "      fill: #D2E3FC;\n",
              "    }\n",
              "\n",
              "    [theme=dark] .colab-df-convert:hover {\n",
              "      background-color: #434B5C;\n",
              "      box-shadow: 0px 1px 3px 1px rgba(0, 0, 0, 0.15);\n",
              "      filter: drop-shadow(0px 1px 2px rgba(0, 0, 0, 0.3));\n",
              "      fill: #FFFFFF;\n",
              "    }\n",
              "  </style>\n",
              "\n",
              "    <script>\n",
              "      const buttonEl =\n",
              "        document.querySelector('#df-fa24e46e-f17f-45aa-a6f4-d75ac2ce6f4b button.colab-df-convert');\n",
              "      buttonEl.style.display =\n",
              "        google.colab.kernel.accessAllowed ? 'block' : 'none';\n",
              "\n",
              "      async function convertToInteractive(key) {\n",
              "        const element = document.querySelector('#df-fa24e46e-f17f-45aa-a6f4-d75ac2ce6f4b');\n",
              "        const dataTable =\n",
              "          await google.colab.kernel.invokeFunction('convertToInteractive',\n",
              "                                                    [key], {});\n",
              "        if (!dataTable) return;\n",
              "\n",
              "        const docLinkHtml = 'Like what you see? Visit the ' +\n",
              "          '<a target=\"_blank\" href=https://colab.research.google.com/notebooks/data_table.ipynb>data table notebook</a>'\n",
              "          + ' to learn more about interactive tables.';\n",
              "        element.innerHTML = '';\n",
              "        dataTable['output_type'] = 'display_data';\n",
              "        await google.colab.output.renderOutput(dataTable, element);\n",
              "        const docLink = document.createElement('div');\n",
              "        docLink.innerHTML = docLinkHtml;\n",
              "        element.appendChild(docLink);\n",
              "      }\n",
              "    </script>\n",
              "  </div>\n",
              "\n",
              "\n",
              "<div id=\"df-0678a110-4602-4004-baab-0e86c1363243\">\n",
              "  <button class=\"colab-df-quickchart\" onclick=\"quickchart('df-0678a110-4602-4004-baab-0e86c1363243')\"\n",
              "            title=\"Suggest charts\"\n",
              "            style=\"display:none;\">\n",
              "\n",
              "<svg xmlns=\"http://www.w3.org/2000/svg\" height=\"24px\"viewBox=\"0 0 24 24\"\n",
              "     width=\"24px\">\n",
              "    <g>\n",
              "        <path d=\"M19 3H5c-1.1 0-2 .9-2 2v14c0 1.1.9 2 2 2h14c1.1 0 2-.9 2-2V5c0-1.1-.9-2-2-2zM9 17H7v-7h2v7zm4 0h-2V7h2v10zm4 0h-2v-4h2v4z\"/>\n",
              "    </g>\n",
              "</svg>\n",
              "  </button>\n",
              "\n",
              "<style>\n",
              "  .colab-df-quickchart {\n",
              "      --bg-color: #E8F0FE;\n",
              "      --fill-color: #1967D2;\n",
              "      --hover-bg-color: #E2EBFA;\n",
              "      --hover-fill-color: #174EA6;\n",
              "      --disabled-fill-color: #AAA;\n",
              "      --disabled-bg-color: #DDD;\n",
              "  }\n",
              "\n",
              "  [theme=dark] .colab-df-quickchart {\n",
              "      --bg-color: #3B4455;\n",
              "      --fill-color: #D2E3FC;\n",
              "      --hover-bg-color: #434B5C;\n",
              "      --hover-fill-color: #FFFFFF;\n",
              "      --disabled-bg-color: #3B4455;\n",
              "      --disabled-fill-color: #666;\n",
              "  }\n",
              "\n",
              "  .colab-df-quickchart {\n",
              "    background-color: var(--bg-color);\n",
              "    border: none;\n",
              "    border-radius: 50%;\n",
              "    cursor: pointer;\n",
              "    display: none;\n",
              "    fill: var(--fill-color);\n",
              "    height: 32px;\n",
              "    padding: 0;\n",
              "    width: 32px;\n",
              "  }\n",
              "\n",
              "  .colab-df-quickchart:hover {\n",
              "    background-color: var(--hover-bg-color);\n",
              "    box-shadow: 0 1px 2px rgba(60, 64, 67, 0.3), 0 1px 3px 1px rgba(60, 64, 67, 0.15);\n",
              "    fill: var(--button-hover-fill-color);\n",
              "  }\n",
              "\n",
              "  .colab-df-quickchart-complete:disabled,\n",
              "  .colab-df-quickchart-complete:disabled:hover {\n",
              "    background-color: var(--disabled-bg-color);\n",
              "    fill: var(--disabled-fill-color);\n",
              "    box-shadow: none;\n",
              "  }\n",
              "\n",
              "  .colab-df-spinner {\n",
              "    border: 2px solid var(--fill-color);\n",
              "    border-color: transparent;\n",
              "    border-bottom-color: var(--fill-color);\n",
              "    animation:\n",
              "      spin 1s steps(1) infinite;\n",
              "  }\n",
              "\n",
              "  @keyframes spin {\n",
              "    0% {\n",
              "      border-color: transparent;\n",
              "      border-bottom-color: var(--fill-color);\n",
              "      border-left-color: var(--fill-color);\n",
              "    }\n",
              "    20% {\n",
              "      border-color: transparent;\n",
              "      border-left-color: var(--fill-color);\n",
              "      border-top-color: var(--fill-color);\n",
              "    }\n",
              "    30% {\n",
              "      border-color: transparent;\n",
              "      border-left-color: var(--fill-color);\n",
              "      border-top-color: var(--fill-color);\n",
              "      border-right-color: var(--fill-color);\n",
              "    }\n",
              "    40% {\n",
              "      border-color: transparent;\n",
              "      border-right-color: var(--fill-color);\n",
              "      border-top-color: var(--fill-color);\n",
              "    }\n",
              "    60% {\n",
              "      border-color: transparent;\n",
              "      border-right-color: var(--fill-color);\n",
              "    }\n",
              "    80% {\n",
              "      border-color: transparent;\n",
              "      border-right-color: var(--fill-color);\n",
              "      border-bottom-color: var(--fill-color);\n",
              "    }\n",
              "    90% {\n",
              "      border-color: transparent;\n",
              "      border-bottom-color: var(--fill-color);\n",
              "    }\n",
              "  }\n",
              "</style>\n",
              "\n",
              "  <script>\n",
              "    async function quickchart(key) {\n",
              "      const quickchartButtonEl =\n",
              "        document.querySelector('#' + key + ' button');\n",
              "      quickchartButtonEl.disabled = true;  // To prevent multiple clicks.\n",
              "      quickchartButtonEl.classList.add('colab-df-spinner');\n",
              "      try {\n",
              "        const charts = await google.colab.kernel.invokeFunction(\n",
              "            'suggestCharts', [key], {});\n",
              "      } catch (error) {\n",
              "        console.error('Error during call to suggestCharts:', error);\n",
              "      }\n",
              "      quickchartButtonEl.classList.remove('colab-df-spinner');\n",
              "      quickchartButtonEl.classList.add('colab-df-quickchart-complete');\n",
              "    }\n",
              "    (() => {\n",
              "      let quickchartButtonEl =\n",
              "        document.querySelector('#df-0678a110-4602-4004-baab-0e86c1363243 button');\n",
              "      quickchartButtonEl.style.display =\n",
              "        google.colab.kernel.accessAllowed ? 'block' : 'none';\n",
              "    })();\n",
              "  </script>\n",
              "</div>\n",
              "    </div>\n",
              "  </div>\n"
            ]
          },
          "metadata": {},
          "execution_count": 669
        }
      ],
      "source": [
        "df=pd.DataFrame(data)\n",
        "df\n"
      ]
    },
    {
      "cell_type": "code",
      "execution_count": 670,
      "metadata": {
        "colab": {
          "base_uri": "https://localhost:8080/"
        },
        "id": "B9SAxiG7Hb52",
        "outputId": "b880b874-4366-40f5-cfe1-c176a0635468"
      },
      "outputs": [
        {
          "output_type": "execute_result",
          "data": {
            "text/plain": [
              "index            0\n",
              "OS_Time_Stamp    0\n",
              "Temperature      0\n",
              "Pressure         0\n",
              "Humidity         0\n",
              "TimeStamp        0\n",
              "dtype: int64"
            ]
          },
          "metadata": {},
          "execution_count": 670
        }
      ],
      "source": [
        "df.isnull().sum()"
      ]
    },
    {
      "cell_type": "code",
      "execution_count": 671,
      "metadata": {
        "colab": {
          "base_uri": "https://localhost:8080/",
          "height": 300
        },
        "id": "F-y3PiDDHjH0",
        "outputId": "b6415b27-7ff1-4812-f027-35c0c3fdb346"
      },
      "outputs": [
        {
          "output_type": "execute_result",
          "data": {
            "text/plain": [
              "             index  OS_Time_Stamp  Temperature     Pressure     Humidity\n",
              "count  2878.000000   2.878000e+03  2878.000000  2878.000000  2878.000000\n",
              "mean    719.000000   1.460520e+09    24.153648  1005.862543    80.653475\n",
              "std     415.475606   3.715930e+06     4.925571     8.401371    22.736845\n",
              "min       0.000000   1.456762e+09    14.800000   994.000000    40.000000\n",
              "25%     359.250000   1.456805e+09    20.100000   997.300000    56.650000\n",
              "50%     719.000000   1.460520e+09    26.000000  1010.500000    92.300000\n",
              "75%    1078.750000   1.464235e+09    28.275000  1013.700000   100.000000\n",
              "max    1438.000000   1.464278e+09    31.400000  1016.700000   100.000000"
            ],
            "text/html": [
              "\n",
              "  <div id=\"df-ab73e74a-30b2-4223-b03c-f6b51c3e43c7\" class=\"colab-df-container\">\n",
              "    <div>\n",
              "<style scoped>\n",
              "    .dataframe tbody tr th:only-of-type {\n",
              "        vertical-align: middle;\n",
              "    }\n",
              "\n",
              "    .dataframe tbody tr th {\n",
              "        vertical-align: top;\n",
              "    }\n",
              "\n",
              "    .dataframe thead th {\n",
              "        text-align: right;\n",
              "    }\n",
              "</style>\n",
              "<table border=\"1\" class=\"dataframe\">\n",
              "  <thead>\n",
              "    <tr style=\"text-align: right;\">\n",
              "      <th></th>\n",
              "      <th>index</th>\n",
              "      <th>OS_Time_Stamp</th>\n",
              "      <th>Temperature</th>\n",
              "      <th>Pressure</th>\n",
              "      <th>Humidity</th>\n",
              "    </tr>\n",
              "  </thead>\n",
              "  <tbody>\n",
              "    <tr>\n",
              "      <th>count</th>\n",
              "      <td>2878.000000</td>\n",
              "      <td>2.878000e+03</td>\n",
              "      <td>2878.000000</td>\n",
              "      <td>2878.000000</td>\n",
              "      <td>2878.000000</td>\n",
              "    </tr>\n",
              "    <tr>\n",
              "      <th>mean</th>\n",
              "      <td>719.000000</td>\n",
              "      <td>1.460520e+09</td>\n",
              "      <td>24.153648</td>\n",
              "      <td>1005.862543</td>\n",
              "      <td>80.653475</td>\n",
              "    </tr>\n",
              "    <tr>\n",
              "      <th>std</th>\n",
              "      <td>415.475606</td>\n",
              "      <td>3.715930e+06</td>\n",
              "      <td>4.925571</td>\n",
              "      <td>8.401371</td>\n",
              "      <td>22.736845</td>\n",
              "    </tr>\n",
              "    <tr>\n",
              "      <th>min</th>\n",
              "      <td>0.000000</td>\n",
              "      <td>1.456762e+09</td>\n",
              "      <td>14.800000</td>\n",
              "      <td>994.000000</td>\n",
              "      <td>40.000000</td>\n",
              "    </tr>\n",
              "    <tr>\n",
              "      <th>25%</th>\n",
              "      <td>359.250000</td>\n",
              "      <td>1.456805e+09</td>\n",
              "      <td>20.100000</td>\n",
              "      <td>997.300000</td>\n",
              "      <td>56.650000</td>\n",
              "    </tr>\n",
              "    <tr>\n",
              "      <th>50%</th>\n",
              "      <td>719.000000</td>\n",
              "      <td>1.460520e+09</td>\n",
              "      <td>26.000000</td>\n",
              "      <td>1010.500000</td>\n",
              "      <td>92.300000</td>\n",
              "    </tr>\n",
              "    <tr>\n",
              "      <th>75%</th>\n",
              "      <td>1078.750000</td>\n",
              "      <td>1.464235e+09</td>\n",
              "      <td>28.275000</td>\n",
              "      <td>1013.700000</td>\n",
              "      <td>100.000000</td>\n",
              "    </tr>\n",
              "    <tr>\n",
              "      <th>max</th>\n",
              "      <td>1438.000000</td>\n",
              "      <td>1.464278e+09</td>\n",
              "      <td>31.400000</td>\n",
              "      <td>1016.700000</td>\n",
              "      <td>100.000000</td>\n",
              "    </tr>\n",
              "  </tbody>\n",
              "</table>\n",
              "</div>\n",
              "    <div class=\"colab-df-buttons\">\n",
              "\n",
              "  <div class=\"colab-df-container\">\n",
              "    <button class=\"colab-df-convert\" onclick=\"convertToInteractive('df-ab73e74a-30b2-4223-b03c-f6b51c3e43c7')\"\n",
              "            title=\"Convert this dataframe to an interactive table.\"\n",
              "            style=\"display:none;\">\n",
              "\n",
              "  <svg xmlns=\"http://www.w3.org/2000/svg\" height=\"24px\" viewBox=\"0 -960 960 960\">\n",
              "    <path d=\"M120-120v-720h720v720H120Zm60-500h600v-160H180v160Zm220 220h160v-160H400v160Zm0 220h160v-160H400v160ZM180-400h160v-160H180v160Zm440 0h160v-160H620v160ZM180-180h160v-160H180v160Zm440 0h160v-160H620v160Z\"/>\n",
              "  </svg>\n",
              "    </button>\n",
              "\n",
              "  <style>\n",
              "    .colab-df-container {\n",
              "      display:flex;\n",
              "      gap: 12px;\n",
              "    }\n",
              "\n",
              "    .colab-df-convert {\n",
              "      background-color: #E8F0FE;\n",
              "      border: none;\n",
              "      border-radius: 50%;\n",
              "      cursor: pointer;\n",
              "      display: none;\n",
              "      fill: #1967D2;\n",
              "      height: 32px;\n",
              "      padding: 0 0 0 0;\n",
              "      width: 32px;\n",
              "    }\n",
              "\n",
              "    .colab-df-convert:hover {\n",
              "      background-color: #E2EBFA;\n",
              "      box-shadow: 0px 1px 2px rgba(60, 64, 67, 0.3), 0px 1px 3px 1px rgba(60, 64, 67, 0.15);\n",
              "      fill: #174EA6;\n",
              "    }\n",
              "\n",
              "    .colab-df-buttons div {\n",
              "      margin-bottom: 4px;\n",
              "    }\n",
              "\n",
              "    [theme=dark] .colab-df-convert {\n",
              "      background-color: #3B4455;\n",
              "      fill: #D2E3FC;\n",
              "    }\n",
              "\n",
              "    [theme=dark] .colab-df-convert:hover {\n",
              "      background-color: #434B5C;\n",
              "      box-shadow: 0px 1px 3px 1px rgba(0, 0, 0, 0.15);\n",
              "      filter: drop-shadow(0px 1px 2px rgba(0, 0, 0, 0.3));\n",
              "      fill: #FFFFFF;\n",
              "    }\n",
              "  </style>\n",
              "\n",
              "    <script>\n",
              "      const buttonEl =\n",
              "        document.querySelector('#df-ab73e74a-30b2-4223-b03c-f6b51c3e43c7 button.colab-df-convert');\n",
              "      buttonEl.style.display =\n",
              "        google.colab.kernel.accessAllowed ? 'block' : 'none';\n",
              "\n",
              "      async function convertToInteractive(key) {\n",
              "        const element = document.querySelector('#df-ab73e74a-30b2-4223-b03c-f6b51c3e43c7');\n",
              "        const dataTable =\n",
              "          await google.colab.kernel.invokeFunction('convertToInteractive',\n",
              "                                                    [key], {});\n",
              "        if (!dataTable) return;\n",
              "\n",
              "        const docLinkHtml = 'Like what you see? Visit the ' +\n",
              "          '<a target=\"_blank\" href=https://colab.research.google.com/notebooks/data_table.ipynb>data table notebook</a>'\n",
              "          + ' to learn more about interactive tables.';\n",
              "        element.innerHTML = '';\n",
              "        dataTable['output_type'] = 'display_data';\n",
              "        await google.colab.output.renderOutput(dataTable, element);\n",
              "        const docLink = document.createElement('div');\n",
              "        docLink.innerHTML = docLinkHtml;\n",
              "        element.appendChild(docLink);\n",
              "      }\n",
              "    </script>\n",
              "  </div>\n",
              "\n",
              "\n",
              "<div id=\"df-6e92c005-130b-4cec-810e-77eb4b18d7c2\">\n",
              "  <button class=\"colab-df-quickchart\" onclick=\"quickchart('df-6e92c005-130b-4cec-810e-77eb4b18d7c2')\"\n",
              "            title=\"Suggest charts\"\n",
              "            style=\"display:none;\">\n",
              "\n",
              "<svg xmlns=\"http://www.w3.org/2000/svg\" height=\"24px\"viewBox=\"0 0 24 24\"\n",
              "     width=\"24px\">\n",
              "    <g>\n",
              "        <path d=\"M19 3H5c-1.1 0-2 .9-2 2v14c0 1.1.9 2 2 2h14c1.1 0 2-.9 2-2V5c0-1.1-.9-2-2-2zM9 17H7v-7h2v7zm4 0h-2V7h2v10zm4 0h-2v-4h2v4z\"/>\n",
              "    </g>\n",
              "</svg>\n",
              "  </button>\n",
              "\n",
              "<style>\n",
              "  .colab-df-quickchart {\n",
              "      --bg-color: #E8F0FE;\n",
              "      --fill-color: #1967D2;\n",
              "      --hover-bg-color: #E2EBFA;\n",
              "      --hover-fill-color: #174EA6;\n",
              "      --disabled-fill-color: #AAA;\n",
              "      --disabled-bg-color: #DDD;\n",
              "  }\n",
              "\n",
              "  [theme=dark] .colab-df-quickchart {\n",
              "      --bg-color: #3B4455;\n",
              "      --fill-color: #D2E3FC;\n",
              "      --hover-bg-color: #434B5C;\n",
              "      --hover-fill-color: #FFFFFF;\n",
              "      --disabled-bg-color: #3B4455;\n",
              "      --disabled-fill-color: #666;\n",
              "  }\n",
              "\n",
              "  .colab-df-quickchart {\n",
              "    background-color: var(--bg-color);\n",
              "    border: none;\n",
              "    border-radius: 50%;\n",
              "    cursor: pointer;\n",
              "    display: none;\n",
              "    fill: var(--fill-color);\n",
              "    height: 32px;\n",
              "    padding: 0;\n",
              "    width: 32px;\n",
              "  }\n",
              "\n",
              "  .colab-df-quickchart:hover {\n",
              "    background-color: var(--hover-bg-color);\n",
              "    box-shadow: 0 1px 2px rgba(60, 64, 67, 0.3), 0 1px 3px 1px rgba(60, 64, 67, 0.15);\n",
              "    fill: var(--button-hover-fill-color);\n",
              "  }\n",
              "\n",
              "  .colab-df-quickchart-complete:disabled,\n",
              "  .colab-df-quickchart-complete:disabled:hover {\n",
              "    background-color: var(--disabled-bg-color);\n",
              "    fill: var(--disabled-fill-color);\n",
              "    box-shadow: none;\n",
              "  }\n",
              "\n",
              "  .colab-df-spinner {\n",
              "    border: 2px solid var(--fill-color);\n",
              "    border-color: transparent;\n",
              "    border-bottom-color: var(--fill-color);\n",
              "    animation:\n",
              "      spin 1s steps(1) infinite;\n",
              "  }\n",
              "\n",
              "  @keyframes spin {\n",
              "    0% {\n",
              "      border-color: transparent;\n",
              "      border-bottom-color: var(--fill-color);\n",
              "      border-left-color: var(--fill-color);\n",
              "    }\n",
              "    20% {\n",
              "      border-color: transparent;\n",
              "      border-left-color: var(--fill-color);\n",
              "      border-top-color: var(--fill-color);\n",
              "    }\n",
              "    30% {\n",
              "      border-color: transparent;\n",
              "      border-left-color: var(--fill-color);\n",
              "      border-top-color: var(--fill-color);\n",
              "      border-right-color: var(--fill-color);\n",
              "    }\n",
              "    40% {\n",
              "      border-color: transparent;\n",
              "      border-right-color: var(--fill-color);\n",
              "      border-top-color: var(--fill-color);\n",
              "    }\n",
              "    60% {\n",
              "      border-color: transparent;\n",
              "      border-right-color: var(--fill-color);\n",
              "    }\n",
              "    80% {\n",
              "      border-color: transparent;\n",
              "      border-right-color: var(--fill-color);\n",
              "      border-bottom-color: var(--fill-color);\n",
              "    }\n",
              "    90% {\n",
              "      border-color: transparent;\n",
              "      border-bottom-color: var(--fill-color);\n",
              "    }\n",
              "  }\n",
              "</style>\n",
              "\n",
              "  <script>\n",
              "    async function quickchart(key) {\n",
              "      const quickchartButtonEl =\n",
              "        document.querySelector('#' + key + ' button');\n",
              "      quickchartButtonEl.disabled = true;  // To prevent multiple clicks.\n",
              "      quickchartButtonEl.classList.add('colab-df-spinner');\n",
              "      try {\n",
              "        const charts = await google.colab.kernel.invokeFunction(\n",
              "            'suggestCharts', [key], {});\n",
              "      } catch (error) {\n",
              "        console.error('Error during call to suggestCharts:', error);\n",
              "      }\n",
              "      quickchartButtonEl.classList.remove('colab-df-spinner');\n",
              "      quickchartButtonEl.classList.add('colab-df-quickchart-complete');\n",
              "    }\n",
              "    (() => {\n",
              "      let quickchartButtonEl =\n",
              "        document.querySelector('#df-6e92c005-130b-4cec-810e-77eb4b18d7c2 button');\n",
              "      quickchartButtonEl.style.display =\n",
              "        google.colab.kernel.accessAllowed ? 'block' : 'none';\n",
              "    })();\n",
              "  </script>\n",
              "</div>\n",
              "    </div>\n",
              "  </div>\n"
            ]
          },
          "metadata": {},
          "execution_count": 671
        }
      ],
      "source": [
        "df.describe()"
      ]
    },
    {
      "cell_type": "code",
      "execution_count": 672,
      "metadata": {
        "colab": {
          "base_uri": "https://localhost:8080/"
        },
        "id": "4ckFBs-4Hlz3",
        "outputId": "6b0f62bd-fa86-4691-d537-3307a3dfd87b"
      },
      "outputs": [
        {
          "output_type": "execute_result",
          "data": {
            "text/plain": [
              "(2878, 6)"
            ]
          },
          "metadata": {},
          "execution_count": 672
        }
      ],
      "source": [
        "df.shape\n"
      ]
    },
    {
      "cell_type": "code",
      "execution_count": 673,
      "metadata": {
        "colab": {
          "base_uri": "https://localhost:8080/"
        },
        "id": "mxAdFWA8Hsrw",
        "outputId": "b049c753-212e-492c-88a7-5fa14149a690"
      },
      "outputs": [
        {
          "output_type": "stream",
          "name": "stdout",
          "text": [
            "<class 'pandas.core.frame.DataFrame'>\n",
            "RangeIndex: 2878 entries, 0 to 2877\n",
            "Data columns (total 6 columns):\n",
            " #   Column         Non-Null Count  Dtype  \n",
            "---  ------         --------------  -----  \n",
            " 0   index          2878 non-null   int64  \n",
            " 1   OS_Time_Stamp  2878 non-null   int64  \n",
            " 2   Temperature    2878 non-null   float64\n",
            " 3   Pressure       2878 non-null   float64\n",
            " 4   Humidity       2878 non-null   float64\n",
            " 5   TimeStamp      2878 non-null   object \n",
            "dtypes: float64(3), int64(2), object(1)\n",
            "memory usage: 135.0+ KB\n"
          ]
        }
      ],
      "source": [
        "df.info()"
      ]
    },
    {
      "cell_type": "code",
      "execution_count": 674,
      "metadata": {
        "id": "7QWEimAPH3H1"
      },
      "outputs": [],
      "source": [
        "X=df[['Temperature']].values.reshape(-1,1)\n",
        "y=df['Pressure'].values"
      ]
    },
    {
      "cell_type": "code",
      "source": [
        "df1=pd.DataFrame({'Temperature':df['Temperature'],'Pressure':df['Pressure']})\n",
        "df1"
      ],
      "metadata": {
        "colab": {
          "base_uri": "https://localhost:8080/",
          "height": 423
        },
        "id": "kXCd3FZJ9sIj",
        "outputId": "c3d9a7b3-864e-4323-f82a-1cf87dd26921"
      },
      "execution_count": 675,
      "outputs": [
        {
          "output_type": "execute_result",
          "data": {
            "text/plain": [
              "      Temperature  Pressure\n",
              "0            17.7    1015.2\n",
              "1            17.7    1015.3\n",
              "2            17.7    1015.3\n",
              "3            17.7    1015.3\n",
              "4            17.6    1015.2\n",
              "...           ...       ...\n",
              "2873         16.7    1015.1\n",
              "2874         16.7    1015.1\n",
              "2875         16.7    1015.1\n",
              "2876         16.7    1015.1\n",
              "2877         16.6    1015.1\n",
              "\n",
              "[2878 rows x 2 columns]"
            ],
            "text/html": [
              "\n",
              "  <div id=\"df-20c7317a-3b6e-406a-9dd4-a6030d8013c9\" class=\"colab-df-container\">\n",
              "    <div>\n",
              "<style scoped>\n",
              "    .dataframe tbody tr th:only-of-type {\n",
              "        vertical-align: middle;\n",
              "    }\n",
              "\n",
              "    .dataframe tbody tr th {\n",
              "        vertical-align: top;\n",
              "    }\n",
              "\n",
              "    .dataframe thead th {\n",
              "        text-align: right;\n",
              "    }\n",
              "</style>\n",
              "<table border=\"1\" class=\"dataframe\">\n",
              "  <thead>\n",
              "    <tr style=\"text-align: right;\">\n",
              "      <th></th>\n",
              "      <th>Temperature</th>\n",
              "      <th>Pressure</th>\n",
              "    </tr>\n",
              "  </thead>\n",
              "  <tbody>\n",
              "    <tr>\n",
              "      <th>0</th>\n",
              "      <td>17.7</td>\n",
              "      <td>1015.2</td>\n",
              "    </tr>\n",
              "    <tr>\n",
              "      <th>1</th>\n",
              "      <td>17.7</td>\n",
              "      <td>1015.3</td>\n",
              "    </tr>\n",
              "    <tr>\n",
              "      <th>2</th>\n",
              "      <td>17.7</td>\n",
              "      <td>1015.3</td>\n",
              "    </tr>\n",
              "    <tr>\n",
              "      <th>3</th>\n",
              "      <td>17.7</td>\n",
              "      <td>1015.3</td>\n",
              "    </tr>\n",
              "    <tr>\n",
              "      <th>4</th>\n",
              "      <td>17.6</td>\n",
              "      <td>1015.2</td>\n",
              "    </tr>\n",
              "    <tr>\n",
              "      <th>...</th>\n",
              "      <td>...</td>\n",
              "      <td>...</td>\n",
              "    </tr>\n",
              "    <tr>\n",
              "      <th>2873</th>\n",
              "      <td>16.7</td>\n",
              "      <td>1015.1</td>\n",
              "    </tr>\n",
              "    <tr>\n",
              "      <th>2874</th>\n",
              "      <td>16.7</td>\n",
              "      <td>1015.1</td>\n",
              "    </tr>\n",
              "    <tr>\n",
              "      <th>2875</th>\n",
              "      <td>16.7</td>\n",
              "      <td>1015.1</td>\n",
              "    </tr>\n",
              "    <tr>\n",
              "      <th>2876</th>\n",
              "      <td>16.7</td>\n",
              "      <td>1015.1</td>\n",
              "    </tr>\n",
              "    <tr>\n",
              "      <th>2877</th>\n",
              "      <td>16.6</td>\n",
              "      <td>1015.1</td>\n",
              "    </tr>\n",
              "  </tbody>\n",
              "</table>\n",
              "<p>2878 rows × 2 columns</p>\n",
              "</div>\n",
              "    <div class=\"colab-df-buttons\">\n",
              "\n",
              "  <div class=\"colab-df-container\">\n",
              "    <button class=\"colab-df-convert\" onclick=\"convertToInteractive('df-20c7317a-3b6e-406a-9dd4-a6030d8013c9')\"\n",
              "            title=\"Convert this dataframe to an interactive table.\"\n",
              "            style=\"display:none;\">\n",
              "\n",
              "  <svg xmlns=\"http://www.w3.org/2000/svg\" height=\"24px\" viewBox=\"0 -960 960 960\">\n",
              "    <path d=\"M120-120v-720h720v720H120Zm60-500h600v-160H180v160Zm220 220h160v-160H400v160Zm0 220h160v-160H400v160ZM180-400h160v-160H180v160Zm440 0h160v-160H620v160ZM180-180h160v-160H180v160Zm440 0h160v-160H620v160Z\"/>\n",
              "  </svg>\n",
              "    </button>\n",
              "\n",
              "  <style>\n",
              "    .colab-df-container {\n",
              "      display:flex;\n",
              "      gap: 12px;\n",
              "    }\n",
              "\n",
              "    .colab-df-convert {\n",
              "      background-color: #E8F0FE;\n",
              "      border: none;\n",
              "      border-radius: 50%;\n",
              "      cursor: pointer;\n",
              "      display: none;\n",
              "      fill: #1967D2;\n",
              "      height: 32px;\n",
              "      padding: 0 0 0 0;\n",
              "      width: 32px;\n",
              "    }\n",
              "\n",
              "    .colab-df-convert:hover {\n",
              "      background-color: #E2EBFA;\n",
              "      box-shadow: 0px 1px 2px rgba(60, 64, 67, 0.3), 0px 1px 3px 1px rgba(60, 64, 67, 0.15);\n",
              "      fill: #174EA6;\n",
              "    }\n",
              "\n",
              "    .colab-df-buttons div {\n",
              "      margin-bottom: 4px;\n",
              "    }\n",
              "\n",
              "    [theme=dark] .colab-df-convert {\n",
              "      background-color: #3B4455;\n",
              "      fill: #D2E3FC;\n",
              "    }\n",
              "\n",
              "    [theme=dark] .colab-df-convert:hover {\n",
              "      background-color: #434B5C;\n",
              "      box-shadow: 0px 1px 3px 1px rgba(0, 0, 0, 0.15);\n",
              "      filter: drop-shadow(0px 1px 2px rgba(0, 0, 0, 0.3));\n",
              "      fill: #FFFFFF;\n",
              "    }\n",
              "  </style>\n",
              "\n",
              "    <script>\n",
              "      const buttonEl =\n",
              "        document.querySelector('#df-20c7317a-3b6e-406a-9dd4-a6030d8013c9 button.colab-df-convert');\n",
              "      buttonEl.style.display =\n",
              "        google.colab.kernel.accessAllowed ? 'block' : 'none';\n",
              "\n",
              "      async function convertToInteractive(key) {\n",
              "        const element = document.querySelector('#df-20c7317a-3b6e-406a-9dd4-a6030d8013c9');\n",
              "        const dataTable =\n",
              "          await google.colab.kernel.invokeFunction('convertToInteractive',\n",
              "                                                    [key], {});\n",
              "        if (!dataTable) return;\n",
              "\n",
              "        const docLinkHtml = 'Like what you see? Visit the ' +\n",
              "          '<a target=\"_blank\" href=https://colab.research.google.com/notebooks/data_table.ipynb>data table notebook</a>'\n",
              "          + ' to learn more about interactive tables.';\n",
              "        element.innerHTML = '';\n",
              "        dataTable['output_type'] = 'display_data';\n",
              "        await google.colab.output.renderOutput(dataTable, element);\n",
              "        const docLink = document.createElement('div');\n",
              "        docLink.innerHTML = docLinkHtml;\n",
              "        element.appendChild(docLink);\n",
              "      }\n",
              "    </script>\n",
              "  </div>\n",
              "\n",
              "\n",
              "<div id=\"df-4c0d561d-3791-4eac-9c37-e52623d2d56e\">\n",
              "  <button class=\"colab-df-quickchart\" onclick=\"quickchart('df-4c0d561d-3791-4eac-9c37-e52623d2d56e')\"\n",
              "            title=\"Suggest charts\"\n",
              "            style=\"display:none;\">\n",
              "\n",
              "<svg xmlns=\"http://www.w3.org/2000/svg\" height=\"24px\"viewBox=\"0 0 24 24\"\n",
              "     width=\"24px\">\n",
              "    <g>\n",
              "        <path d=\"M19 3H5c-1.1 0-2 .9-2 2v14c0 1.1.9 2 2 2h14c1.1 0 2-.9 2-2V5c0-1.1-.9-2-2-2zM9 17H7v-7h2v7zm4 0h-2V7h2v10zm4 0h-2v-4h2v4z\"/>\n",
              "    </g>\n",
              "</svg>\n",
              "  </button>\n",
              "\n",
              "<style>\n",
              "  .colab-df-quickchart {\n",
              "      --bg-color: #E8F0FE;\n",
              "      --fill-color: #1967D2;\n",
              "      --hover-bg-color: #E2EBFA;\n",
              "      --hover-fill-color: #174EA6;\n",
              "      --disabled-fill-color: #AAA;\n",
              "      --disabled-bg-color: #DDD;\n",
              "  }\n",
              "\n",
              "  [theme=dark] .colab-df-quickchart {\n",
              "      --bg-color: #3B4455;\n",
              "      --fill-color: #D2E3FC;\n",
              "      --hover-bg-color: #434B5C;\n",
              "      --hover-fill-color: #FFFFFF;\n",
              "      --disabled-bg-color: #3B4455;\n",
              "      --disabled-fill-color: #666;\n",
              "  }\n",
              "\n",
              "  .colab-df-quickchart {\n",
              "    background-color: var(--bg-color);\n",
              "    border: none;\n",
              "    border-radius: 50%;\n",
              "    cursor: pointer;\n",
              "    display: none;\n",
              "    fill: var(--fill-color);\n",
              "    height: 32px;\n",
              "    padding: 0;\n",
              "    width: 32px;\n",
              "  }\n",
              "\n",
              "  .colab-df-quickchart:hover {\n",
              "    background-color: var(--hover-bg-color);\n",
              "    box-shadow: 0 1px 2px rgba(60, 64, 67, 0.3), 0 1px 3px 1px rgba(60, 64, 67, 0.15);\n",
              "    fill: var(--button-hover-fill-color);\n",
              "  }\n",
              "\n",
              "  .colab-df-quickchart-complete:disabled,\n",
              "  .colab-df-quickchart-complete:disabled:hover {\n",
              "    background-color: var(--disabled-bg-color);\n",
              "    fill: var(--disabled-fill-color);\n",
              "    box-shadow: none;\n",
              "  }\n",
              "\n",
              "  .colab-df-spinner {\n",
              "    border: 2px solid var(--fill-color);\n",
              "    border-color: transparent;\n",
              "    border-bottom-color: var(--fill-color);\n",
              "    animation:\n",
              "      spin 1s steps(1) infinite;\n",
              "  }\n",
              "\n",
              "  @keyframes spin {\n",
              "    0% {\n",
              "      border-color: transparent;\n",
              "      border-bottom-color: var(--fill-color);\n",
              "      border-left-color: var(--fill-color);\n",
              "    }\n",
              "    20% {\n",
              "      border-color: transparent;\n",
              "      border-left-color: var(--fill-color);\n",
              "      border-top-color: var(--fill-color);\n",
              "    }\n",
              "    30% {\n",
              "      border-color: transparent;\n",
              "      border-left-color: var(--fill-color);\n",
              "      border-top-color: var(--fill-color);\n",
              "      border-right-color: var(--fill-color);\n",
              "    }\n",
              "    40% {\n",
              "      border-color: transparent;\n",
              "      border-right-color: var(--fill-color);\n",
              "      border-top-color: var(--fill-color);\n",
              "    }\n",
              "    60% {\n",
              "      border-color: transparent;\n",
              "      border-right-color: var(--fill-color);\n",
              "    }\n",
              "    80% {\n",
              "      border-color: transparent;\n",
              "      border-right-color: var(--fill-color);\n",
              "      border-bottom-color: var(--fill-color);\n",
              "    }\n",
              "    90% {\n",
              "      border-color: transparent;\n",
              "      border-bottom-color: var(--fill-color);\n",
              "    }\n",
              "  }\n",
              "</style>\n",
              "\n",
              "  <script>\n",
              "    async function quickchart(key) {\n",
              "      const quickchartButtonEl =\n",
              "        document.querySelector('#' + key + ' button');\n",
              "      quickchartButtonEl.disabled = true;  // To prevent multiple clicks.\n",
              "      quickchartButtonEl.classList.add('colab-df-spinner');\n",
              "      try {\n",
              "        const charts = await google.colab.kernel.invokeFunction(\n",
              "            'suggestCharts', [key], {});\n",
              "      } catch (error) {\n",
              "        console.error('Error during call to suggestCharts:', error);\n",
              "      }\n",
              "      quickchartButtonEl.classList.remove('colab-df-spinner');\n",
              "      quickchartButtonEl.classList.add('colab-df-quickchart-complete');\n",
              "    }\n",
              "    (() => {\n",
              "      let quickchartButtonEl =\n",
              "        document.querySelector('#df-4c0d561d-3791-4eac-9c37-e52623d2d56e button');\n",
              "      quickchartButtonEl.style.display =\n",
              "        google.colab.kernel.accessAllowed ? 'block' : 'none';\n",
              "    })();\n",
              "  </script>\n",
              "</div>\n",
              "    </div>\n",
              "  </div>\n"
            ]
          },
          "metadata": {},
          "execution_count": 675
        }
      ]
    },
    {
      "cell_type": "code",
      "execution_count": 676,
      "metadata": {
        "colab": {
          "base_uri": "https://localhost:8080/",
          "height": 472
        },
        "id": "SIYjwoLuZATt",
        "outputId": "cf19d298-ee93-489d-dbda-189235a0f8be"
      },
      "outputs": [
        {
          "output_type": "display_data",
          "data": {
            "text/plain": [
              "<Figure size 640x480 with 1 Axes>"
            ],
            "image/png": "[encoded data removed]"
          },
          "metadata": {}
        }
      ],
      "source": [
        "plt.scatter(X, y,color='red')\n",
        "plt.title('Scatter Plot of Temperature vs Pressure')\n",
        "plt.xlabel('Temperature')\n",
        "plt.ylabel('Pressure')\n",
        "plt.show()"
      ]
    },
    {
      "cell_type": "code",
      "source": [
        "print(X.shape)\n",
        "print(y.shape)"
      ],
      "metadata": {
        "colab": {
          "base_uri": "https://localhost:8080/"
        },
        "id": "owp6etx35qjC",
        "outputId": "46f9a069-8715-413f-efa2-1a4cab621b9e"
      },
      "execution_count": 677,
      "outputs": [
        {
          "output_type": "stream",
          "name": "stdout",
          "text": [
            "(2878, 1)\n",
            "(2878,)\n"
          ]
        }
      ]
    },
    {
      "cell_type": "code",
      "execution_count": 678,
      "metadata": {
        "id": "AQfrRc9pNlOg"
      },
      "outputs": [],
      "source": [
        "from sklearn.model_selection import train_test_split\n",
        "X_train,X_test,y_train, y_test = train_test_split(X, y, test_size=0.44, random_state=44 )"
      ]
    },
    {
      "cell_type": "code",
      "source": [
        "X_test_reshaped= np.array(X_test).reshape(-1,1)\n"
      ],
      "metadata": {
        "id": "d--g1UXne54Z"
      },
      "execution_count": 679,
      "outputs": []
    },
    {
      "cell_type": "code",
      "source": [
        "from sklearn.preprocessing import PolynomialFeatures\n",
        "pol=PolynomialFeatures(degree=2,include_bias=True)\n",
        "X_train_p=pol.fit_transform(X_train)\n",
        "X_test_p=pol.fit_transform(X_test)"
      ],
      "metadata": {
        "id": "ZxCooVyYfmvl"
      },
      "execution_count": 680,
      "outputs": []
    },
    {
      "cell_type": "code",
      "source": [
        "X_train_p\n"
      ],
      "metadata": {
        "colab": {
          "base_uri": "https://localhost:8080/"
        },
        "id": "FzHDn3Z8bcOD",
        "outputId": "9f28e133-aa63-46a4-f0b6-9a28343bc29b"
      },
      "execution_count": 681,
      "outputs": [
        {
          "output_type": "execute_result",
          "data": {
            "text/plain": [
              "array([[  1.  ,  30.  , 900.  ],\n",
              "       [  1.  ,  21.7 , 470.89],\n",
              "       [  1.  ,  28.6 , 817.96],\n",
              "       ...,\n",
              "       [  1.  ,  22.7 , 515.29],\n",
              "       [  1.  ,  28.6 , 817.96],\n",
              "       [  1.  ,  26.6 , 707.56]])"
            ]
          },
          "metadata": {},
          "execution_count": 681
        }
      ]
    },
    {
      "cell_type": "code",
      "source": [
        "X_test_p"
      ],
      "metadata": {
        "colab": {
          "base_uri": "https://localhost:8080/"
        },
        "id": "8oAEKURZeBTO",
        "outputId": "d2ebf71a-e210-4cd2-8c8f-945d0309a715"
      },
      "execution_count": 682,
      "outputs": [
        {
          "output_type": "execute_result",
          "data": {
            "text/plain": [
              "array([[  1.  ,  28.  , 784.  ],\n",
              "       [  1.  ,  27.4 , 750.76],\n",
              "       [  1.  ,  29.  , 841.  ],\n",
              "       ...,\n",
              "       [  1.  ,  22.9 , 524.41],\n",
              "       [  1.  ,  28.  , 784.  ],\n",
              "       [  1.  ,  28.6 , 817.96]])"
            ]
          },
          "metadata": {},
          "execution_count": 682
        }
      ]
    },
    {
      "cell_type": "markdown",
      "source": [
        "polynomial regression with degree 2 implemented"
      ],
      "metadata": {
        "id": "ixeji-OChGss"
      }
    },
    {
      "cell_type": "code",
      "source": [
        "from sklearn.linear_model import LinearRegression\n",
        "lin_reg1=LinearRegression()\n",
        "lin_reg1.fit(X_train_p,y_train)\n",
        "print(lin_reg1.coef_)\n",
        "print(lin_reg1.intercept_)"
      ],
      "metadata": {
        "colab": {
          "base_uri": "https://localhost:8080/"
        },
        "id": "7Owec853g5X2",
        "outputId": "cf88e845-7fa3-43a5-9525-02bc18dad027"
      },
      "execution_count": 683,
      "outputs": [
        {
          "output_type": "stream",
          "name": "stdout",
          "text": [
            "[ 0.          3.83117604 -0.11219682]\n",
            "981.5166962503728\n"
          ]
        }
      ]
    },
    {
      "cell_type": "code",
      "source": [
        "plt.scatter(X_train,lin_reg1.predict(X_train_p))\n",
        "plt.scatter(X_train,y_train)\n",
        "plt.title(\"scatter plot of best fit line of degree 2\")\n",
        "plt.show()"
      ],
      "metadata": {
        "colab": {
          "base_uri": "https://localhost:8080/",
          "height": 452
        },
        "id": "4dfGsF11jeQ1",
        "outputId": "2b78bf3e-75a0-4502-ca87-3893517b0547"
      },
      "execution_count": 684,
      "outputs": [
        {
          "output_type": "display_data",
          "data": {
            "text/plain": [
              "<Figure size 640x480 with 1 Axes>"
            ],
            "image/png": "[encoded data removed]"
          },
          "metadata": {}
        }
      ]
    },
    {
      "cell_type": "code",
      "source": [
        "from sklearn.metrics import r2_score\n",
        "y_predict1=lin_reg1.predict(X_test_p)\n",
        "score1=r2_score(y_test,y_predict1)\n",
        "score1"
      ],
      "metadata": {
        "colab": {
          "base_uri": "https://localhost:8080/"
        },
        "id": "VKfekgfPkqf-",
        "outputId": "aebbf413-183b-4901-e43d-76c083cddc01"
      },
      "execution_count": 685,
      "outputs": [
        {
          "output_type": "execute_result",
          "data": {
            "text/plain": [
              "0.5837708612084538"
            ]
          },
          "metadata": {},
          "execution_count": 685
        }
      ]
    },
    {
      "cell_type": "markdown",
      "source": [
        "MSE of model 1 with degree 2\n"
      ],
      "metadata": {
        "id": "UNq1UHsJlQs_"
      }
    },
    {
      "cell_type": "code",
      "source": [
        "mse1=sum((y_predict1-y_test)**2)/1266\n",
        "mse1"
      ],
      "metadata": {
        "colab": {
          "base_uri": "https://localhost:8080/"
        },
        "id": "i-uvXMoUk6mm",
        "outputId": "3365c030-1a9e-42b2-9586-2f8ee09dfc6e"
      },
      "execution_count": 686,
      "outputs": [
        {
          "output_type": "execute_result",
          "data": {
            "text/plain": [
              "28.752936507144916"
            ]
          },
          "metadata": {},
          "execution_count": 686
        }
      ]
    },
    {
      "cell_type": "markdown",
      "source": [
        "mae of model 1 with degree of 2"
      ],
      "metadata": {
        "id": "Om-uAd_onYcG"
      }
    },
    {
      "cell_type": "code",
      "source": [
        "mae1=sum(abs(y_predict1-y_test))/1266\n",
        "mae1"
      ],
      "metadata": {
        "colab": {
          "base_uri": "https://localhost:8080/"
        },
        "id": "jpScDbArmtT3",
        "outputId": "bbf9a3e2-9cbb-4c71-e380-d35c2df21a0a"
      },
      "execution_count": 687,
      "outputs": [
        {
          "output_type": "execute_result",
          "data": {
            "text/plain": [
              "3.829961526359636"
            ]
          },
          "metadata": {},
          "execution_count": 687
        }
      ]
    },
    {
      "cell_type": "markdown",
      "source": [
        "polynomial regression of degree 3 implementation"
      ],
      "metadata": {
        "id": "gVxFjq8fnPPU"
      }
    },
    {
      "cell_type": "code",
      "source": [
        "pol=PolynomialFeatures(degree=3,include_bias=True)\n",
        "X_train_p=pol.fit_transform(X_train)\n",
        "X_test_p=pol.fit_transform(X_test)"
      ],
      "metadata": {
        "id": "dG88NHDDnAzg"
      },
      "execution_count": 688,
      "outputs": []
    },
    {
      "cell_type": "code",
      "source": [
        "X_train_p"
      ],
      "metadata": {
        "colab": {
          "base_uri": "https://localhost:8080/"
        },
        "id": "cniGcVQcnzwc",
        "outputId": "48e30e63-7c2e-4712-c1bf-87891bfc338e"
      },
      "execution_count": 689,
      "outputs": [
        {
          "output_type": "execute_result",
          "data": {
            "text/plain": [
              "array([[1.0000000e+00, 3.0000000e+01, 9.0000000e+02, 2.7000000e+04],\n",
              "       [1.0000000e+00, 2.1700000e+01, 4.7089000e+02, 1.0218313e+04],\n",
              "       [1.0000000e+00, 2.8600000e+01, 8.1796000e+02, 2.3393656e+04],\n",
              "       ...,\n",
              "       [1.0000000e+00, 2.2700000e+01, 5.1529000e+02, 1.1697083e+04],\n",
              "       [1.0000000e+00, 2.8600000e+01, 8.1796000e+02, 2.3393656e+04],\n",
              "       [1.0000000e+00, 2.6600000e+01, 7.0756000e+02, 1.8821096e+04]])"
            ]
          },
          "metadata": {},
          "execution_count": 689
        }
      ]
    },
    {
      "cell_type": "code",
      "source": [
        "X_test_p"
      ],
      "metadata": {
        "colab": {
          "base_uri": "https://localhost:8080/"
        },
        "id": "Z8j9JoLJn3II",
        "outputId": "4e57ef6d-da1f-4137-a19a-0fcc0f593b27"
      },
      "execution_count": 690,
      "outputs": [
        {
          "output_type": "execute_result",
          "data": {
            "text/plain": [
              "array([[1.0000000e+00, 2.8000000e+01, 7.8400000e+02, 2.1952000e+04],\n",
              "       [1.0000000e+00, 2.7400000e+01, 7.5076000e+02, 2.0570824e+04],\n",
              "       [1.0000000e+00, 2.9000000e+01, 8.4100000e+02, 2.4389000e+04],\n",
              "       ...,\n",
              "       [1.0000000e+00, 2.2900000e+01, 5.2441000e+02, 1.2008989e+04],\n",
              "       [1.0000000e+00, 2.8000000e+01, 7.8400000e+02, 2.1952000e+04],\n",
              "       [1.0000000e+00, 2.8600000e+01, 8.1796000e+02, 2.3393656e+04]])"
            ]
          },
          "metadata": {},
          "execution_count": 690
        }
      ]
    },
    {
      "cell_type": "code",
      "source": [
        "lin_reg2=LinearRegression()\n",
        "lin_reg2.fit(X_train_p,y_train)\n",
        "print(lin_reg2.coef_)\n",
        "print(lin_reg2.intercept_)"
      ],
      "metadata": {
        "colab": {
          "base_uri": "https://localhost:8080/"
        },
        "id": "nJ7Gj5Mgn5S7",
        "outputId": "92ce1326-b9c8-4107-c810-c6d64500f2d4"
      },
      "execution_count": 691,
      "outputs": [
        {
          "output_type": "stream",
          "name": "stdout",
          "text": [
            "[ 0.00000000e+00  2.70397823e+01 -1.14911236e+00  1.50193043e-02]\n",
            "813.959169699261\n"
          ]
        }
      ]
    },
    {
      "cell_type": "code",
      "source": [
        "plt.scatter(X_train,lin_reg2.predict(X_train_p))\n",
        "plt.scatter(X_train,y_train)\n",
        "plt.xlabel('temperature')\n",
        "plt.ylabel('pressure')\n",
        "\n",
        "plt.title(\"scatter plot of best fit line of degree 3\")\n",
        "plt.show()"
      ],
      "metadata": {
        "colab": {
          "base_uri": "https://localhost:8080/",
          "height": 472
        },
        "id": "1sJF5jqyn9rw",
        "outputId": "92c000c9-22f5-4c45-b259-3c8485497939"
      },
      "execution_count": 692,
      "outputs": [
        {
          "output_type": "display_data",
          "data": {
            "text/plain": [
              "<Figure size 640x480 with 1 Axes>"
            ],
            "image/png": "[encoded data removed]"
          },
          "metadata": {}
        }
      ]
    },
    {
      "cell_type": "code",
      "source": [
        "y_predict2=lin_reg2.predict(X_test_p)\n",
        "score2=r2_score(y_test,y_predict2)\n",
        "score2"
      ],
      "metadata": {
        "colab": {
          "base_uri": "https://localhost:8080/"
        },
        "id": "1bm9AssPoEby",
        "outputId": "27609732-6756-48c6-b0cb-475bd915f70e"
      },
      "execution_count": 693,
      "outputs": [
        {
          "output_type": "execute_result",
          "data": {
            "text/plain": [
              "0.6000431907310297"
            ]
          },
          "metadata": {},
          "execution_count": 693
        }
      ]
    },
    {
      "cell_type": "markdown",
      "source": [
        "MSE of model 2 with degree 3"
      ],
      "metadata": {
        "id": "med8fb0qpZrE"
      }
    },
    {
      "cell_type": "code",
      "source": [
        "mse2=sum((y_predict2-y_test)**2)/1266\n",
        "mse2"
      ],
      "metadata": {
        "colab": {
          "base_uri": "https://localhost:8080/"
        },
        "id": "TysOgQxPpQeF",
        "outputId": "ff5d95e4-6572-48e7-f832-d3967a259123"
      },
      "execution_count": 694,
      "outputs": [
        {
          "output_type": "execute_result",
          "data": {
            "text/plain": [
              "27.62885072366429"
            ]
          },
          "metadata": {},
          "execution_count": 694
        }
      ]
    },
    {
      "cell_type": "markdown",
      "source": [
        "mae of model 1 with degree of 3"
      ],
      "metadata": {
        "id": "CSfFNxdipuL5"
      }
    },
    {
      "cell_type": "code",
      "source": [
        "mae2=sum(abs(y_predict2-y_test))/1266\n",
        "mae2"
      ],
      "metadata": {
        "colab": {
          "base_uri": "https://localhost:8080/"
        },
        "id": "kV012GG4pnQk",
        "outputId": "6b754ddd-deef-4292-cd2b-2b45ecc93fd8"
      },
      "execution_count": 695,
      "outputs": [
        {
          "output_type": "execute_result",
          "data": {
            "text/plain": [
              "3.8585174405725318"
            ]
          },
          "metadata": {},
          "execution_count": 695
        }
      ]
    },
    {
      "cell_type": "markdown",
      "source": [
        "train test split 70:30"
      ],
      "metadata": {
        "id": "6GqtJm7s3QzJ"
      }
    },
    {
      "cell_type": "code",
      "source": [
        "X_train,X_test,y_train, y_test = train_test_split(X, y, test_size=0.3, random_state=44 )"
      ],
      "metadata": {
        "id": "Se0hqe6Cp106"
      },
      "execution_count": 696,
      "outputs": []
    },
    {
      "cell_type": "code",
      "source": [
        "from sklearn.preprocessing import PolynomialFeatures\n",
        "pol=PolynomialFeatures(degree=4,include_bias=True)\n",
        "X_train_p=pol.fit_transform(X_train)\n",
        "X_test_p=pol.fit_transform(X_test)"
      ],
      "metadata": {
        "id": "JmVCn0g96M0V"
      },
      "execution_count": 697,
      "outputs": []
    },
    {
      "cell_type": "code",
      "source": [
        "X_train_p"
      ],
      "metadata": {
        "colab": {
          "base_uri": "https://localhost:8080/"
        },
        "id": "BZ6zeJb368nl",
        "outputId": "87daeebe-aed4-43ba-c409-c6b5b2831c17"
      },
      "execution_count": 698,
      "outputs": [
        {
          "output_type": "execute_result",
          "data": {
            "text/plain": [
              "array([[1.00000000e+00, 2.85000000e+01, 8.12250000e+02, 2.31491250e+04,\n",
              "        6.59750062e+05],\n",
              "       [1.00000000e+00, 2.42000000e+01, 5.85640000e+02, 1.41724880e+04,\n",
              "        3.42974210e+05],\n",
              "       [1.00000000e+00, 1.51000000e+01, 2.28010000e+02, 3.44295100e+03,\n",
              "        5.19885601e+04],\n",
              "       ...,\n",
              "       [1.00000000e+00, 2.27000000e+01, 5.15290000e+02, 1.16970830e+04,\n",
              "        2.65523784e+05],\n",
              "       [1.00000000e+00, 2.86000000e+01, 8.17960000e+02, 2.33936560e+04,\n",
              "        6.69058562e+05],\n",
              "       [1.00000000e+00, 2.66000000e+01, 7.07560000e+02, 1.88210960e+04,\n",
              "        5.00641154e+05]])"
            ]
          },
          "metadata": {},
          "execution_count": 698
        }
      ]
    },
    {
      "cell_type": "code",
      "source": [
        "X_test_p"
      ],
      "metadata": {
        "colab": {
          "base_uri": "https://localhost:8080/"
        },
        "id": "ZNv9gBUG-xPR",
        "outputId": "7360a23c-76c2-4e11-e6af-1aa011f6ffce"
      },
      "execution_count": 699,
      "outputs": [
        {
          "output_type": "execute_result",
          "data": {
            "text/plain": [
              "array([[1.00000000e+00, 2.80000000e+01, 7.84000000e+02, 2.19520000e+04,\n",
              "        6.14656000e+05],\n",
              "       [1.00000000e+00, 2.74000000e+01, 7.50760000e+02, 2.05708240e+04,\n",
              "        5.63640578e+05],\n",
              "       [1.00000000e+00, 2.90000000e+01, 8.41000000e+02, 2.43890000e+04,\n",
              "        7.07281000e+05],\n",
              "       ...,\n",
              "       [1.00000000e+00, 2.04000000e+01, 4.16160000e+02, 8.48966400e+03,\n",
              "        1.73189146e+05],\n",
              "       [1.00000000e+00, 2.91000000e+01, 8.46810000e+02, 2.46421710e+04,\n",
              "        7.17087176e+05],\n",
              "       [1.00000000e+00, 2.14000000e+01, 4.57960000e+02, 9.80034400e+03,\n",
              "        2.09727362e+05]])"
            ]
          },
          "metadata": {},
          "execution_count": 699
        }
      ]
    },
    {
      "cell_type": "markdown",
      "source": [
        "coefficient and intercept calculation"
      ],
      "metadata": {
        "id": "xYE-QQ9B_KMQ"
      }
    },
    {
      "cell_type": "code",
      "source": [
        "lin_reg3=LinearRegression()\n",
        "lin_reg3.fit(X_train_p,y_train)\n",
        "print(lin_reg3.coef_)\n",
        "print(lin_reg3.intercept_)"
      ],
      "metadata": {
        "colab": {
          "base_uri": "https://localhost:8080/"
        },
        "id": "s5r-jDIs_DvT",
        "outputId": "e8cf5d71-30a5-4f76-b778-e278fb5d7666"
      },
      "execution_count": 700,
      "outputs": [
        {
          "output_type": "stream",
          "name": "stdout",
          "text": [
            "[ 0.00000000e+00 -1.95604593e+02  1.39232065e+01 -4.29136972e-01\n",
            "  4.81550801e-03]\n",
            "2020.0257635005983\n"
          ]
        }
      ]
    },
    {
      "cell_type": "markdown",
      "source": [
        "VISUALISING BEST FIT OF POLYNOMIAL REGRESSION OF DEGREE 4"
      ],
      "metadata": {
        "id": "rYmytYQw_S2s"
      }
    },
    {
      "cell_type": "code",
      "source": [
        "plt.scatter(X_train,lin_reg3.predict(X_train_p))\n",
        "plt.scatter(X_train,y_train)\n",
        "plt.xlabel('temperature')\n",
        "plt.ylabel('pressure')\n",
        "\n",
        "plt.title(\"scatter plot of best fit line of degree 4\")\n",
        "plt.show()"
      ],
      "metadata": {
        "colab": {
          "base_uri": "https://localhost:8080/",
          "height": 472
        },
        "id": "NDPUGMmX_Qjw",
        "outputId": "edc1a577-5a2a-44f9-c49a-fc288870e3f0"
      },
      "execution_count": 701,
      "outputs": [
        {
          "output_type": "display_data",
          "data": {
            "text/plain": [
              "<Figure size 640x480 with 1 Axes>"
            ],
            "image/png": "[encoded data removed]"
          },
          "metadata": {}
        }
      ]
    },
    {
      "cell_type": "code",
      "source": [
        "y_predict3=lin_reg3.predict(X_test_p)\n",
        "score3=r2_score(y_test,y_predict3)\n",
        "score3"
      ],
      "metadata": {
        "colab": {
          "base_uri": "https://localhost:8080/"
        },
        "id": "jYZbK_Vs_gSn",
        "outputId": "ca916217-67f9-4ca2-d768-454a5f7868e3"
      },
      "execution_count": 702,
      "outputs": [
        {
          "output_type": "execute_result",
          "data": {
            "text/plain": [
              "0.6120593872404212"
            ]
          },
          "metadata": {},
          "execution_count": 702
        }
      ]
    },
    {
      "cell_type": "markdown",
      "source": [
        "mse of polynomial regression for degree 4"
      ],
      "metadata": {
        "id": "pY2rnEjEA1iZ"
      }
    },
    {
      "cell_type": "code",
      "source": [
        "mse3=sum((y_predict3-y_test)**2)/863\n",
        "mse3"
      ],
      "metadata": {
        "colab": {
          "base_uri": "https://localhost:8080/"
        },
        "id": "YRncthHX_09D",
        "outputId": "d8768db2-e900-4e18-90cd-160dc4db2a18"
      },
      "execution_count": 703,
      "outputs": [
        {
          "output_type": "execute_result",
          "data": {
            "text/plain": [
              "26.71089641691194"
            ]
          },
          "metadata": {},
          "execution_count": 703
        }
      ]
    },
    {
      "cell_type": "markdown",
      "source": [
        "mae of polynomial regression of degree 4"
      ],
      "metadata": {
        "id": "_DOt4nzGA9B6"
      }
    },
    {
      "cell_type": "code",
      "source": [
        "mae3=sum(abs(y_predict3-y_test))/863\n",
        "mae3"
      ],
      "metadata": {
        "colab": {
          "base_uri": "https://localhost:8080/"
        },
        "id": "1b_SffgTAkHn",
        "outputId": "ade768fc-0f8d-4ae0-ae4a-f4f8c7bef163"
      },
      "execution_count": 704,
      "outputs": [
        {
          "output_type": "execute_result",
          "data": {
            "text/plain": [
              "3.446870925916599"
            ]
          },
          "metadata": {},
          "execution_count": 704
        }
      ]
    },
    {
      "cell_type": "markdown",
      "source": [
        "polynomial regression  model of degree 5\n"
      ],
      "metadata": {
        "id": "vDk8UfbyBFxs"
      }
    },
    {
      "cell_type": "code",
      "source": [
        "pol=PolynomialFeatures(degree=5,include_bias=True)\n",
        "X_train_p=pol.fit_transform(X_train)\n",
        "X_test_p=pol.fit_transform(X_test)\n"
      ],
      "metadata": {
        "id": "1Wlq5WGXArrO"
      },
      "execution_count": 705,
      "outputs": []
    },
    {
      "cell_type": "code",
      "source": [
        "X_train_p"
      ],
      "metadata": {
        "colab": {
          "base_uri": "https://localhost:8080/"
        },
        "id": "ReTl0UxKBOym",
        "outputId": "aa58986b-3eb2-4360-9132-ca919cd532dc"
      },
      "execution_count": 706,
      "outputs": [
        {
          "output_type": "execute_result",
          "data": {
            "text/plain": [
              "array([[1.00000000e+00, 2.85000000e+01, 8.12250000e+02, 2.31491250e+04,\n",
              "        6.59750062e+05, 1.88028768e+07],\n",
              "       [1.00000000e+00, 2.42000000e+01, 5.85640000e+02, 1.41724880e+04,\n",
              "        3.42974210e+05, 8.29997587e+06],\n",
              "       [1.00000000e+00, 1.51000000e+01, 2.28010000e+02, 3.44295100e+03,\n",
              "        5.19885601e+04, 7.85027258e+05],\n",
              "       ...,\n",
              "       [1.00000000e+00, 2.27000000e+01, 5.15290000e+02, 1.16970830e+04,\n",
              "        2.65523784e+05, 6.02738990e+06],\n",
              "       [1.00000000e+00, 2.86000000e+01, 8.17960000e+02, 2.33936560e+04,\n",
              "        6.69058562e+05, 1.91350749e+07],\n",
              "       [1.00000000e+00, 2.66000000e+01, 7.07560000e+02, 1.88210960e+04,\n",
              "        5.00641154e+05, 1.33170547e+07]])"
            ]
          },
          "metadata": {},
          "execution_count": 706
        }
      ]
    },
    {
      "cell_type": "code",
      "source": [
        "X_test_p"
      ],
      "metadata": {
        "colab": {
          "base_uri": "https://localhost:8080/"
        },
        "id": "DJ7wqKthBRyN",
        "outputId": "d308803b-b780-40df-e8c9-64dc18b6023f"
      },
      "execution_count": 707,
      "outputs": [
        {
          "output_type": "execute_result",
          "data": {
            "text/plain": [
              "array([[1.00000000e+00, 2.80000000e+01, 7.84000000e+02, 2.19520000e+04,\n",
              "        6.14656000e+05, 1.72103680e+07],\n",
              "       [1.00000000e+00, 2.74000000e+01, 7.50760000e+02, 2.05708240e+04,\n",
              "        5.63640578e+05, 1.54437518e+07],\n",
              "       [1.00000000e+00, 2.90000000e+01, 8.41000000e+02, 2.43890000e+04,\n",
              "        7.07281000e+05, 2.05111490e+07],\n",
              "       ...,\n",
              "       [1.00000000e+00, 2.04000000e+01, 4.16160000e+02, 8.48966400e+03,\n",
              "        1.73189146e+05, 3.53305857e+06],\n",
              "       [1.00000000e+00, 2.91000000e+01, 8.46810000e+02, 2.46421710e+04,\n",
              "        7.17087176e+05, 2.08672368e+07],\n",
              "       [1.00000000e+00, 2.14000000e+01, 4.57960000e+02, 9.80034400e+03,\n",
              "        2.09727362e+05, 4.48816554e+06]])"
            ]
          },
          "metadata": {},
          "execution_count": 707
        }
      ]
    },
    {
      "cell_type": "code",
      "source": [
        "lin_reg4=LinearRegression()\n",
        "lin_reg4.fit(X_train_p,y_train)\n",
        "print(lin_reg4.coef_)\n",
        "print(lin_reg4.intercept_)"
      ],
      "metadata": {
        "colab": {
          "base_uri": "https://localhost:8080/"
        },
        "id": "vZ6D5DgDBUQL",
        "outputId": "5c66369f-f0c1-4073-a50a-57a1c4f2bb67"
      },
      "execution_count": 708,
      "outputs": [
        {
          "output_type": "stream",
          "name": "stdout",
          "text": [
            "[ 0.00000000e+00 -1.05356582e+03  9.20888707e+01 -3.93212198e+00\n",
            "  8.20907228e-02 -6.71850798e-04]\n",
            "5724.065269159502\n"
          ]
        }
      ]
    },
    {
      "cell_type": "markdown",
      "source": [
        "VISUALISING BEST FIT OF POLYNOMIAL REGRESSION OF DEGREE 5"
      ],
      "metadata": {
        "id": "IY5AjJrPBgKW"
      }
    },
    {
      "cell_type": "code",
      "source": [
        "plt.scatter(X_train,lin_reg4.predict(X_train_p))\n",
        "plt.scatter(X_train,y_train)\n",
        "plt.xlabel('temperature')\n",
        "plt.ylabel('pressure')\n",
        "\n",
        "plt.title(\"scatter plot of best fit line of degree 5\")\n",
        "plt.show()"
      ],
      "metadata": {
        "colab": {
          "base_uri": "https://localhost:8080/",
          "height": 472
        },
        "id": "ysC3A4usBb2E",
        "outputId": "c4083f83-472c-4c3d-b3c4-e52ba716dcef"
      },
      "execution_count": 709,
      "outputs": [
        {
          "output_type": "display_data",
          "data": {
            "text/plain": [
              "<Figure size 640x480 with 1 Axes>"
            ],
            "image/png": "[encoded data removed]"
          },
          "metadata": {}
        }
      ]
    },
    {
      "cell_type": "code",
      "source": [
        "y_predict4=lin_reg4.predict(X_test_p)\n",
        "score4=r2_score(y_test,y_predict4)\n",
        "score4"
      ],
      "metadata": {
        "colab": {
          "base_uri": "https://localhost:8080/"
        },
        "id": "F9VO_W6wBjTV",
        "outputId": "c4146f9e-f443-4957-e301-6924b3d2acfb"
      },
      "execution_count": 710,
      "outputs": [
        {
          "output_type": "execute_result",
          "data": {
            "text/plain": [
              "0.6311054959264424"
            ]
          },
          "metadata": {},
          "execution_count": 710
        }
      ]
    },
    {
      "cell_type": "markdown",
      "source": [
        "mse calculated for polynomial regression"
      ],
      "metadata": {
        "id": "q45oiL4LCLgR"
      }
    },
    {
      "cell_type": "code",
      "source": [
        "mse4=sum((y_predict4-y_test)**2)/863\n",
        "mse4"
      ],
      "metadata": {
        "colab": {
          "base_uri": "https://localhost:8080/"
        },
        "id": "BUz3IuQaB4C3",
        "outputId": "0438cc5d-61f4-4016-bd51-88c5d8b2d30c"
      },
      "execution_count": 711,
      "outputs": [
        {
          "output_type": "execute_result",
          "data": {
            "text/plain": [
              "25.399513644588268"
            ]
          },
          "metadata": {},
          "execution_count": 711
        }
      ]
    },
    {
      "cell_type": "markdown",
      "source": [
        "mean absolute error for polynomial regression of degree 5"
      ],
      "metadata": {
        "id": "qVNT31NECesY"
      }
    },
    {
      "cell_type": "code",
      "source": [
        "mae4=sum(abs(y_predict4-y_test))/863\n",
        "mae4"
      ],
      "metadata": {
        "colab": {
          "base_uri": "https://localhost:8080/"
        },
        "id": "ku-9jy4tCZa3",
        "outputId": "580e2312-a5db-427d-fba4-d98565399b9b"
      },
      "execution_count": 712,
      "outputs": [
        {
          "output_type": "execute_result",
          "data": {
            "text/plain": [
              "3.552962917361423"
            ]
          },
          "metadata": {},
          "execution_count": 712
        }
      ]
    },
    {
      "cell_type": "markdown",
      "source": [
        "training and spliting of data 80:20"
      ],
      "metadata": {
        "id": "uU-UBuM8Cuq_"
      }
    },
    {
      "cell_type": "code",
      "source": [
        "X_train,X_test,y_train, y_test = train_test_split(X, y, test_size=0.2, random_state=44 )"
      ],
      "metadata": {
        "id": "0BRXywwaCrC7"
      },
      "execution_count": 713,
      "outputs": []
    },
    {
      "cell_type": "code",
      "source": [
        "pol=PolynomialFeatures(degree=6,include_bias=True)\n",
        "X_train_p=pol.fit_transform(X_train)\n",
        "X_test_p=pol.fit_transform(X_test)"
      ],
      "metadata": {
        "id": "xw8E0hJvDXbX"
      },
      "execution_count": 714,
      "outputs": []
    },
    {
      "cell_type": "code",
      "source": [
        "X_train_p"
      ],
      "metadata": {
        "colab": {
          "base_uri": "https://localhost:8080/"
        },
        "id": "WGeIlUm-Dk79",
        "outputId": "00d74220-3e92-4c8e-a3b8-62cedcdbe82b"
      },
      "execution_count": 715,
      "outputs": [
        {
          "output_type": "execute_result",
          "data": {
            "text/plain": [
              "array([[1.00000000e+00, 2.78000000e+01, 7.72840000e+02, ...,\n",
              "        5.97281666e+05, 1.66044303e+07, 4.61603162e+08],\n",
              "       [1.00000000e+00, 2.43000000e+01, 5.90490000e+02, ...,\n",
              "        3.48678440e+05, 8.47288609e+06, 2.05891132e+08],\n",
              "       [1.00000000e+00, 2.69000000e+01, 7.23610000e+02, ...,\n",
              "        5.23611432e+05, 1.40851475e+07, 3.78890468e+08],\n",
              "       ...,\n",
              "       [1.00000000e+00, 2.27000000e+01, 5.15290000e+02, ...,\n",
              "        2.65523784e+05, 6.02738990e+06, 1.36821751e+08],\n",
              "       [1.00000000e+00, 2.86000000e+01, 8.17960000e+02, ...,\n",
              "        6.69058562e+05, 1.91350749e+07, 5.47263141e+08],\n",
              "       [1.00000000e+00, 2.66000000e+01, 7.07560000e+02, ...,\n",
              "        5.00641154e+05, 1.33170547e+07, 3.54233655e+08]])"
            ]
          },
          "metadata": {},
          "execution_count": 715
        }
      ]
    },
    {
      "cell_type": "code",
      "source": [
        "X_test_p"
      ],
      "metadata": {
        "colab": {
          "base_uri": "https://localhost:8080/"
        },
        "id": "zsnO8M2qDoAB",
        "outputId": "3a229708-9f23-4f59-9593-cebc57180ee0"
      },
      "execution_count": 716,
      "outputs": [
        {
          "output_type": "execute_result",
          "data": {
            "text/plain": [
              "array([[1.00000000e+00, 2.80000000e+01, 7.84000000e+02, ...,\n",
              "        6.14656000e+05, 1.72103680e+07, 4.81890304e+08],\n",
              "       [1.00000000e+00, 2.74000000e+01, 7.50760000e+02, ...,\n",
              "        5.63640578e+05, 1.54437518e+07, 4.23158800e+08],\n",
              "       [1.00000000e+00, 2.90000000e+01, 8.41000000e+02, ...,\n",
              "        7.07281000e+05, 2.05111490e+07, 5.94823321e+08],\n",
              "       ...,\n",
              "       [1.00000000e+00, 1.60000000e+01, 2.56000000e+02, ...,\n",
              "        6.55360000e+04, 1.04857600e+06, 1.67772160e+07],\n",
              "       [1.00000000e+00, 2.25000000e+01, 5.06250000e+02, ...,\n",
              "        2.56289062e+05, 5.76650391e+06, 1.29746338e+08],\n",
              "       [1.00000000e+00, 2.71000000e+01, 7.34410000e+02, ...,\n",
              "        5.39358048e+05, 1.46166031e+07, 3.96109944e+08]])"
            ]
          },
          "metadata": {},
          "execution_count": 716
        }
      ]
    },
    {
      "cell_type": "markdown",
      "source": [
        "fitting a regression of degree 6"
      ],
      "metadata": {
        "id": "mPFIK2V1Dux6"
      }
    },
    {
      "cell_type": "code",
      "source": [
        "lin_reg5=LinearRegression()\n",
        "lin_reg5.fit(X_train_p,y_train)\n",
        "print(lin_reg5.coef_)\n",
        "print(lin_reg5.intercept_)"
      ],
      "metadata": {
        "colab": {
          "base_uri": "https://localhost:8080/"
        },
        "id": "IrIpNGu4DqqC",
        "outputId": "cc4037ff-0afd-434d-8856-3a5f01cc6882"
      },
      "execution_count": 717,
      "outputs": [
        {
          "output_type": "stream",
          "name": "stdout",
          "text": [
            "[ 0.00000000e+00  4.76652589e+03 -5.73419688e+02  3.61176775e+01\n",
            " -1.25624632e+00  2.28859722e-02 -1.70738221e-04]\n",
            "-15198.12388271698\n"
          ]
        }
      ]
    },
    {
      "cell_type": "code",
      "source": [
        "plt.scatter(X_train,lin_reg5.predict(X_train_p))\n",
        "plt.scatter(X_train,y_train)\n",
        "plt.xlabel('temperature')\n",
        "plt.ylabel('pressure')\n",
        "\n",
        "plt.title(\"scatter plot of best fit line of degree 6\")\n",
        "plt.show()"
      ],
      "metadata": {
        "colab": {
          "base_uri": "https://localhost:8080/",
          "height": 472
        },
        "id": "grD64RJbD17G",
        "outputId": "ef256cbf-8fab-4a9f-c17f-868728170209"
      },
      "execution_count": 718,
      "outputs": [
        {
          "output_type": "display_data",
          "data": {
            "text/plain": [
              "<Figure size 640x480 with 1 Axes>"
            ],
            "image/png": "[encoded data removed]"
          },
          "metadata": {}
        }
      ]
    },
    {
      "cell_type": "code",
      "source": [
        "y_predict5=lin_reg5.predict(X_test_p)\n",
        "score5=r2_score(y_test,y_predict5)\n",
        "score5"
      ],
      "metadata": {
        "colab": {
          "base_uri": "https://localhost:8080/"
        },
        "id": "aplOPq_QEAkr",
        "outputId": "afaa0238-0f67-4c87-d1f6-a1f0fde4ab2f"
      },
      "execution_count": 719,
      "outputs": [
        {
          "output_type": "execute_result",
          "data": {
            "text/plain": [
              "0.6413879468714687"
            ]
          },
          "metadata": {},
          "execution_count": 719
        }
      ]
    },
    {
      "cell_type": "markdown",
      "source": [
        "mse calculated for polynomial regression for degree 6 in 80:20 trin split"
      ],
      "metadata": {
        "id": "dqYu60PwELfc"
      }
    },
    {
      "cell_type": "code",
      "source": [
        "mse5=sum((y_predict5-y_test)**2)/576\n",
        "mse5"
      ],
      "metadata": {
        "colab": {
          "base_uri": "https://localhost:8080/"
        },
        "id": "TZgI1Ac0ECw1",
        "outputId": "f9f5e1c4-fe50-4f03-d13b-dde0f4d43571"
      },
      "execution_count": 720,
      "outputs": [
        {
          "output_type": "execute_result",
          "data": {
            "text/plain": [
              "25.383933834923585"
            ]
          },
          "metadata": {},
          "execution_count": 720
        }
      ]
    },
    {
      "cell_type": "markdown",
      "source": [
        "mean absolute Errror calculated for polynomial regression for degree 6 in 80:20 train test_split"
      ],
      "metadata": {
        "id": "1LjGJmacExE1"
      }
    },
    {
      "cell_type": "code",
      "source": [
        "mae5=sum(abs(y_predict5-y_test))/576\n",
        "mae5"
      ],
      "metadata": {
        "colab": {
          "base_uri": "https://localhost:8080/"
        },
        "id": "kvluuNi1EgSN",
        "outputId": "c24c7062-fc40-49f6-89cb-f7a730defb2b"
      },
      "execution_count": 721,
      "outputs": [
        {
          "output_type": "execute_result",
          "data": {
            "text/plain": [
              "3.4186580639701187"
            ]
          },
          "metadata": {},
          "execution_count": 721
        }
      ]
    },
    {
      "cell_type": "markdown",
      "source": [
        "polynomial for degree 7 applied"
      ],
      "metadata": {
        "id": "x56oRrsxE_im"
      }
    },
    {
      "cell_type": "code",
      "source": [
        "pol=PolynomialFeatures(degree=7,include_bias=True)\n",
        "X_train_p=pol.fit_transform(X_train)\n",
        "X_test_p=pol.fit_transform(X_test)\n",
        "print(f'X_train_p: {X_train_p}')\n",
        "print(f'X_test_p: {X_test_p}')"
      ],
      "metadata": {
        "colab": {
          "base_uri": "https://localhost:8080/"
        },
        "id": "rf8444frEoJf",
        "outputId": "f15d8569-ac4e-44a6-a85a-9dbbeddb3a73"
      },
      "execution_count": 722,
      "outputs": [
        {
          "output_type": "stream",
          "name": "stdout",
          "text": [
            "X_train_p: [[1.00000000e+00 2.78000000e+01 7.72840000e+02 ... 1.66044303e+07\n",
            "  4.61603162e+08 1.28325679e+10]\n",
            " [1.00000000e+00 2.43000000e+01 5.90490000e+02 ... 8.47288609e+06\n",
            "  2.05891132e+08 5.00315451e+09]\n",
            " [1.00000000e+00 2.69000000e+01 7.23610000e+02 ... 1.40851475e+07\n",
            "  3.78890468e+08 1.01921536e+10]\n",
            " ...\n",
            " [1.00000000e+00 2.27000000e+01 5.15290000e+02 ... 6.02738990e+06\n",
            "  1.36821751e+08 3.10585374e+09]\n",
            " [1.00000000e+00 2.86000000e+01 8.17960000e+02 ... 1.91350749e+07\n",
            "  5.47263141e+08 1.56517258e+10]\n",
            " [1.00000000e+00 2.66000000e+01 7.07560000e+02 ... 1.33170547e+07\n",
            "  3.54233655e+08 9.42261521e+09]]\n",
            "X_test_p: [[1.00000000e+00 2.80000000e+01 7.84000000e+02 ... 1.72103680e+07\n",
            "  4.81890304e+08 1.34929285e+10]\n",
            " [1.00000000e+00 2.74000000e+01 7.50760000e+02 ... 1.54437518e+07\n",
            "  4.23158800e+08 1.15945511e+10]\n",
            " [1.00000000e+00 2.90000000e+01 8.41000000e+02 ... 2.05111490e+07\n",
            "  5.94823321e+08 1.72498763e+10]\n",
            " ...\n",
            " [1.00000000e+00 1.60000000e+01 2.56000000e+02 ... 1.04857600e+06\n",
            "  1.67772160e+07 2.68435456e+08]\n",
            " [1.00000000e+00 2.25000000e+01 5.06250000e+02 ... 5.76650391e+06\n",
            "  1.29746338e+08 2.91929260e+09]\n",
            " [1.00000000e+00 2.71000000e+01 7.34410000e+02 ... 1.46166031e+07\n",
            "  3.96109944e+08 1.07345795e+10]]\n"
          ]
        }
      ]
    },
    {
      "cell_type": "code",
      "source": [
        "lin_reg6=LinearRegression()\n",
        "lin_reg6.fit(X_train_p,y_train)\n",
        "print(lin_reg6.coef_)\n",
        "print(lin_reg6.intercept_)"
      ],
      "metadata": {
        "colab": {
          "base_uri": "https://localhost:8080/"
        },
        "id": "UmcuYZo-E-bt",
        "outputId": "caae2330-5057-4bf7-86f5-ec0c2066dd59"
      },
      "execution_count": 723,
      "outputs": [
        {
          "output_type": "stream",
          "name": "stdout",
          "text": [
            "[ 0.00000000e+00 -3.06987063e+04  4.28751782e+03 -3.29898884e+02\n",
            "  1.50994919e+01 -4.10979913e-01  6.15745458e-03 -3.91650501e-05]\n",
            "94443.5065840395\n"
          ]
        }
      ]
    },
    {
      "cell_type": "code",
      "source": [
        "plt.scatter(X_train,lin_reg6.predict(X_train_p))\n",
        "plt.scatter(X_train,y_train)\n",
        "plt.xlabel('temperature')\n",
        "plt.ylabel('pressure')\n",
        "\n",
        "plt.title(\"scatter plot of best fit line of degree 7\")\n",
        "plt.show()"
      ],
      "metadata": {
        "colab": {
          "base_uri": "https://localhost:8080/",
          "height": 472
        },
        "id": "9_95Hxe5Fvvw",
        "outputId": "63107e13-af2e-4f03-c2c2-c62c88e96836"
      },
      "execution_count": 724,
      "outputs": [
        {
          "output_type": "display_data",
          "data": {
            "text/plain": [
              "<Figure size 640x480 with 1 Axes>"
            ],
            "image/png": "[encoded data removed]"
          },
          "metadata": {}
        }
      ]
    },
    {
      "cell_type": "markdown",
      "source": [
        "predicted accuracy of polynomial regresssion for degree 7"
      ],
      "metadata": {
        "id": "W9n651VwG2zH"
      }
    },
    {
      "cell_type": "code",
      "source": [
        "y_predict6=lin_reg6.predict(X_test_p)\n",
        "score6=r2_score(y_test,y_predict6)\n",
        "score6"
      ],
      "metadata": {
        "colab": {
          "base_uri": "https://localhost:8080/"
        },
        "id": "QmWoK-awF11V",
        "outputId": "ea79b181-0aad-46c9-bf7b-ff68abc21e88"
      },
      "execution_count": 725,
      "outputs": [
        {
          "output_type": "execute_result",
          "data": {
            "text/plain": [
              "0.6369668800368422"
            ]
          },
          "metadata": {},
          "execution_count": 725
        }
      ]
    },
    {
      "cell_type": "code",
      "source": [
        "mse6=sum((y_predict6-y_test)**2)/576\n",
        "mse6"
      ],
      "metadata": {
        "colab": {
          "base_uri": "https://localhost:8080/"
        },
        "id": "IK5ZjGEwG1V1",
        "outputId": "f1faab37-b4a8-4c35-9db2-2666cf936e77"
      },
      "execution_count": 726,
      "outputs": [
        {
          "output_type": "execute_result",
          "data": {
            "text/plain": [
              "25.69687386867563"
            ]
          },
          "metadata": {},
          "execution_count": 726
        }
      ]
    },
    {
      "cell_type": "code",
      "source": [
        "mae6=sum(abs(y_predict6-y_test))/576\n",
        "mae6"
      ],
      "metadata": {
        "colab": {
          "base_uri": "https://localhost:8080/"
        },
        "id": "BkS-8kvIHD4W",
        "outputId": "6971a6ab-de5d-4feb-e994-a55effba467a"
      },
      "execution_count": 727,
      "outputs": [
        {
          "output_type": "execute_result",
          "data": {
            "text/plain": [
              "3.443767185284022"
            ]
          },
          "metadata": {},
          "execution_count": 727
        }
      ]
    },
    {
      "cell_type": "markdown",
      "source": [
        "Inference : we see that in this dataset of studying the patterns of weather where the predictor variable being the  temperature and the target variable being the pressure we fit a polynomial regression model for 6 different degrees with different train_split_test  we notice the following situation here\n",
        "\n",
        "in 56->44 train test split  we see that the accuracy or the model score is 0.58\n",
        "with mse of 28.752936507144916 and mae of 3.82 for degree 2 and for degree 3 we see that model score is 0.60 with mse of 27.62 and mae of 3.85 noticing that mae is increasing as degree increases whereas mse decreases as degree increases for this train test split\n",
        "In the next split of 70:30 we notice that\n",
        "for degree 4  we see the model score of 0.61,with mse of 26.71 and mae of 3.44 and for degree 5 we see that the model score is 0.63 along with mse of 25.6 and mae of 3.55 which evidentely suggest that the best fit of polynomial tends to deviate less than from the actual values resulting to fit the best model"
      ],
      "metadata": {
        "id": "oQoPtZNIHioO"
      }
    },
    {
      "cell_type": "code",
      "source": [],
      "metadata": {
        "id": "os0GxYyiHQkc"
      },
      "execution_count": 727,
      "outputs": []
    }
  ],
  "metadata": {
    "colab": {
      "provenance": [],
      "mount_file_id": "1kvIGXow0JZhBF9x60i2w0-7ANiQ9W9ho",
      "authorship_tag": "ABX9TyMvOW8+XTOw75Sojux+uX0q",
      "include_colab_link": true
    },
    "kernelspec": {
      "display_name": "Python 3",
      "name": "python3"
    },
    "language_info": {
      "name": "python"
    }
  },
  "nbformat": 4,
  "nbformat_minor": 0
}